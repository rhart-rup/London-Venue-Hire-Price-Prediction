{
 "cells": [
  {
   "cell_type": "code",
   "execution_count": 1,
   "id": "eb83bebd-c803-4a0d-be3c-044de1fecd46",
   "metadata": {},
   "outputs": [],
   "source": [
    "import pandas as pd\n",
    "import csv\n",
    "import json\n",
    "import time\n",
    "import random\n",
    "import chromedriver_autoinstaller\n",
    "\n",
    "from selenium import webdriver\n",
    "from selenium.webdriver.chrome.options import Options\n",
    "from selenium.webdriver.common.keys import Keys\n",
    "from selenium.common.exceptions import ElementNotInteractableException\n",
    "from selenium.common.exceptions import TimeoutException, WebDriverException, NoSuchElementException\n",
    "from selenium.webdriver.support.ui import WebDriverWait\n",
    "from lxml import etree"
   ]
  },
  {
   "cell_type": "markdown",
   "id": "f99aa074-802f-4721-ad3a-128e748530e6",
   "metadata": {},
   "source": [
    "![alt text](images/tag_venue_home_page.png)\n",
    "# Tagvenue Venue Web Scrape\n",
    "### Introduction \n",
    "\n",
    "The [Tagvenue](https://www.tagvenue.com/) website is basically an Air BnB for finding and booking venues for an event. The website hosts thousands of venues in the UK that can be booked for events such as weddings, work drinks, birthdays etc. Each venue has one or more **spaces** available to be booked. A **space** is basically a room or area within the venue. Some venues have a single space, often the whole venue, whilst others offer a selection of rooms, each offered as a separate space. Each Space has its own webpage on Tagvenue. This webpage contains all the data needed to choose which space to book for your event. Example data includes price, location, size, capacity, features, licensing etc. This notebook will scrape the data from all spaces on the [Tagvenue](https://www.tagvenue.com/) website that are located in **London**. At the time of writing this amounts to **~4400** spaces. "
   ]
  },
  {
   "cell_type": "markdown",
   "id": "944bcae5-183f-46df-9b4b-d81ec9206ade",
   "metadata": {},
   "source": [
    "### Key Variables\n",
    "The following key variables define and tweak the specifics of the web scrape: \n",
    "\n",
    "- **progress_report_interval** - Periodic progress reports (% completed) are printed during scraping. This variable defines in seconds how often the report is output. \n",
    "- **connection_error_retry_time** - This defines how long in seconds the program will wait before trying to re-load a webpage when it fails to load due to a connection error. \n",
    "- **headless_mode** - Set to *True* if you want chrome to be launched in headless mode i.e. not visible. Set to *False* if you wish chrome to be visible while scraping.  \n",
    "- **longitude_min**, **longitude_max**, **latitude_min** and **latitude_max** - Defines the area that will be searched for venues. The intersection of the four longitude / latitude lines defines a square area."
   ]
  },
  {
   "cell_type": "code",
   "execution_count": 2,
   "id": "98af76c8-8b80-4250-b9e5-cf3050f70bd7",
   "metadata": {},
   "outputs": [],
   "source": [
    "progress_report_interval = 1800 #1800 for normal run, 300 for test\n",
    "connection_error_retry_time = 300  # 300 for normal run, 30 for test\n",
    "# Set True to have chrome open in headless mode \n",
    "headless_mode = False \n",
    "# longitude and latidue max and min define four lines, the intersection \n",
    "# of these lines defines a square area used for the venue search\n",
    "# Normal run values, comment out when not wanted \n",
    "latitude_min = 51.326626 \n",
    "latitude_max = 51.7297765\n",
    "longitude_min = -0.446500003\n",
    "longitude_max = 0.2190751\n",
    "# Test Values, comment out when not wanted \n",
    "#longitude_min = -0.100501\n",
    "#longitude_max = -0.059614\n",
    "#latitude_min = 51.494423\n",
    "#latitude_max = 51.50697"
   ]
  },
  {
   "cell_type": "markdown",
   "id": "b23126e8-c587-4642-924c-5df6d2f4d03a",
   "metadata": {},
   "source": [
    "### Initiate Web Scraper\n",
    "We will use Selenium and Chromedriver / Chrome to crawl the Hire Space website and scrape data. An initial check is performed by *chromedriver_autoinstaller()* to ensure chromedriver is up to data. If it is not, then the latest version is downloaded. Selenium then initiates an instance of chrome that it can control. This instance will either be visible or invisible (headless mode) depending on the *headless_mode* variable.  "
   ]
  },
  {
   "cell_type": "code",
   "execution_count": 4,
   "id": "8e270f6a-24e0-4cf1-87dc-25a668bb7f03",
   "metadata": {},
   "outputs": [],
   "source": [
    "# Check if the current version of chromedriver exists\n",
    "# and if it doesn't exist, download it automatically,\n",
    "# then add chromedriver to path\n",
    "chromedriver_autoinstaller.install()\n",
    "# If headless_mode was True, open chrome in headless mode, \n",
    "# otherwise open a visible chrome browser\n",
    "if (headless_mode):\n",
    "    chrome_options = Options()\n",
    "    chrome_options.add_argument(\"--headless\")\n",
    "    driver = webdriver.Chrome(options=chrome_options)\n",
    "else:\n",
    "    # Initialise chromedriver\n",
    "    driver = webdriver.Chrome()"
   ]
  },
  {
   "cell_type": "markdown",
   "id": "68ac69ac-b1fe-4712-8c38-8393943df19a",
   "metadata": {},
   "source": [
    "### Define Page Load Function\n",
    "We will frequently load new webpages with Selenium. We want to wait a certain amount of time between successive page loads to minimise our impact on the server and avoid being detected as a bot. We also want to detect any connection errors that might occur during the loading of a page for example due to a wifi issue. \n",
    "\n",
    "For this purpose, we created the *load_page* function. This function basically takes a url and loads it into chrome. It then pauses the program for twice the time it took for the page to load (with random variation to look less like a bot). In this way, the strain we put on the server will dynamically change. The slower the server becomes, the more time we will wait between successive page loads and vice versa if the server speeds up. \n",
    "\n",
    "The function also Handles *timeout* (page took longer than 30 seconds to load) and *connection* errors (couldn't connect to internet). In either case, the programme will wait some time then try to reload the page. If it still fails, the error is logged.  \n",
    "\n",
    "The function returns *True* if there were no errors loading the page and returns *False* when there were errors. It can be placed in an *if* statement so that the page will only be processed if the page loaded successfully.   "
   ]
  },
  {
   "cell_type": "code",
   "execution_count": 5,
   "id": "6493ded9-c781-4c33-bf30-d89d7e88296a",
   "metadata": {},
   "outputs": [],
   "source": [
    "# Set chromedriver timeout error to trigger if page takes more \n",
    "# than 30 seconds to load\n",
    "driver.set_page_load_timeout(30)\n",
    "# Initialise scraping error log\n",
    "scraping_error_log = []\n",
    "# Note - the below function returns True when no errors occur \n",
    "# during page load and is designed to be put within an 'if' \n",
    "# i.e. if(load_page(url)): to only do the steps in the 'if' \n",
    "# when the page load doesn't have errors\n",
    "def load_page(url):\n",
    "    \"\"\"Load provided url in chrome then sleep for interval of time. \n",
    "    \n",
    "    Handles and logs timout and connection errors. Calculates \n",
    "    the time to wait by multiplying the time it took the page to \n",
    "    load by 2, then adding some random offset.\n",
    "    \n",
    "    Returns -- True if page load was successful, returns False if there \n",
    "    was an error\n",
    "    \"\"\"\n",
    "    \n",
    "    try:\n",
    "        # Loads url in chrome and calculates the time it took to load page\n",
    "        time_of_request = time.time()\n",
    "        driver.get(url)\n",
    "        page_load_time = time.time() - time_of_request\n",
    "        # Calculate time required to wait before next url is \n",
    "        # loaded\n",
    "        wait_time_till_next_request = wait_time_calculation(page_load_time)\n",
    "        time.sleep(wait_time_till_next_request)\n",
    "        # Returns True to indicate page load had no errors\n",
    "        return True\n",
    "    # Execution pauses if timeout or connection issue occurs \n",
    "    except (TimeoutException, WebDriverException) as e:\n",
    "        time.sleep(connection_error_retry_time)  \n",
    "        try:\n",
    "            # Loads url in chrome and calculates the time it took to load page\n",
    "            time_of_request = time.time()\n",
    "            driver.get(url)\n",
    "            page_load_time = time.time() - time_of_request\n",
    "            # Calculate time required to wait before next url is \n",
    "            # loaded (next time load_page is called)\n",
    "            wait_time_till_next_request = wait_time_calculation(page_load_time)\n",
    "            time.sleep(wait_time_till_next_request)\n",
    "        except TimeoutException:\n",
    "            scraping_error_log.append([url, \n",
    "                              'page failed to load, web page timed out'])\n",
    "            # Returns False to indicate page load had an error\n",
    "            return False\n",
    "        except WebDriverException:\n",
    "            scraping_error_log.append([url, \n",
    "                              'page failed to load, no internet connection'])\n",
    "            # Returns False to indicate page load had an error\n",
    "            return False\n",
    "            \n",
    "def wait_time_calculation(page_load_time):\n",
    "    \"\"\"Returns time required to wait before loading next url\n",
    "    \n",
    "    The wait time is 2 times the page_load_time, with \n",
    "    random variation\"\"\"\n",
    "    \n",
    "    average_wait_time = 2 * page_load_time\n",
    "    upper_wait_time = 1.33333 * average_wait_time\n",
    "    lower_wait_time = 0.77777 * average_wait_time\n",
    "    return random.uniform(lower_wait_time, upper_wait_time)"
   ]
  },
  {
   "cell_type": "markdown",
   "id": "8cc1d286-fa8e-430a-9759-f98bddbdc572",
   "metadata": {},
   "source": [
    "### Creating Search URL\n",
    "![alt text](images/tag_venue_search_bar.png)\n",
    "We will use Tagvenue's [search page](https://www.tagvenue.com/) to find all venues located in London. The Tagvenue search requires an 'event type' to be chosen for the search. There are around **190** different 'event types' available to choose from. To find all venue's hosted by the website, we will have to repeat the search for all 190 available 'event types'. When a user clicks on the 'event type' field on the search page, a list of options is shown for them to choose from. Below we scrape the 'event type' options provided to the user.  "
   ]
  },
  {
   "cell_type": "code",
   "execution_count": 13,
   "id": "9ea6be51-ba54-4d3d-a8c8-166db834b031",
   "metadata": {},
   "outputs": [
    {
     "name": "stdout",
     "output_type": "stream",
     "text": [
      "There are 190 event types on Tagvenue\n"
     ]
    }
   ],
   "source": [
    "tagvenue_search_page_url = 'https://www.tagvenue.com/'\n",
    "if (load_page(tagvenue_search_page_url)):\n",
    "    # Find event type html input element\n",
    "    form_event_type_input = driver.find_element_by_xpath(\n",
    "        \"//input[@name='room_tag_autocomplete']\")\n",
    "    # Click on event type html input element - this loads the 'event \n",
    "    # type' html elements that contain the event type options into the\n",
    "    # webpage html\n",
    "    form_event_type_input.click()\n",
    "    # Find event type html elements \n",
    "    form_event_types_elements = driver.find_elements_by_xpath(\n",
    "        \"//div[@class='autocomplete-suggestions']//div\")\n",
    "    # Extract text from event types html elements \n",
    "    form_event_types = [element.get_attribute('innerHTML')\n",
    "                        for element in form_event_types_elements]\n",
    "    # replace spaces with '-', to make the event type conform to the \n",
    "    # url format used by Tagvenue - remove, from old approach \n",
    "    #event_types = [item.replace(' ','-') for item in event_types]\n",
    "else: raise Exception('page load error - cannot find event types')\n",
    "\n",
    "print(f\"There are {len(form_event_types)} event types on Tagvenue\")"
   ]
  },
  {
   "cell_type": "markdown",
   "id": "109f9725-05a7-4efe-a86c-6a2bca059514",
   "metadata": {},
   "source": [
    "After you select an 'event type' and click search, a search url is created and loaded into chrome. You are then taken to the search results page. The 'event type' forms a sub-directory of the search url. An example search url is shown below, where the 'event type' chosen was '18th Birthday Party'.  \n",
    "\n",
    "https://www.tagvenue.com/uk/search/18th-birthday-party?location_id=6&people=&neighbourhood=London\n",
    "\n",
    "The text of the 'event type' options provided to the user when completing the form is not consistent with the text used in the url e.g. the event type *'Academic'* becomes *'academic-venues'* in the search url. As such, we will use selenium to perform a search using each 'event-type' option and will extract the text of the 'event-type' from the search url. This will enable us to create our own custom urls with custom longitude and latitude values later, rather than having to rely on the functionality of the search page.  "
   ]
  },
  {
   "cell_type": "code",
   "execution_count": 14,
   "id": "5364d0ee-612e-462e-9c55-45fba282cb9a",
   "metadata": {},
   "outputs": [],
   "source": [
    "def find_url_event_type(event_type):\n",
    "    \"\"\"Returns the event type text used in the search url for the\n",
    "    given event type\"\"\"\n",
    "    \n",
    "    load_page(tagvenue_search_page_url)\n",
    "    # Find event type input html element\n",
    "    event_type_input = driver.find_element_by_xpath(\n",
    "        \"//input[@name='room_tag_autocomplete']\")\n",
    "    # Input the event type\n",
    "    event_type_input.send_keys(event_type)\n",
    "    # Press enter\n",
    "    event_type_input.send_keys(Keys.ENTER)\n",
    "    # Find search button html element\n",
    "    search_button_element = driver.find_element_by_xpath(\n",
    "        \"//button[@class='c-button-cta c-button-cta--big js-hero-search']\")\n",
    "    # Click search button tom perform search\n",
    "    search_button_element.click()\n",
    "    # Wait to give search page time to load\n",
    "    time.wait(5)\n",
    "    # Extract search url used\n",
    "    search_url = driver.current_url\n",
    "    # Extract event type text from search url. Event type sits between\n",
    "    # the last '/' and first '?' in the search url.\n",
    "    end_of_event_type = search_url.find('?')\n",
    "    start_of_event_type = search_url.rfind('/', 0, end_of_event_type) + 1\n",
    "    return search_url[start_of_event_type : end_of_event_type]"
   ]
  },
  {
   "cell_type": "code",
   "execution_count": 15,
   "id": "b88f185c-4333-4d17-a72d-fb7b07b37e08",
   "metadata": {},
   "outputs": [],
   "source": [
    "# Ignore, left in for testing / debugging purposes\n",
    "#form_event_types = form_event_types[0:5]"
   ]
  },
  {
   "cell_type": "code",
   "execution_count": 16,
   "id": "d5d0b237-089f-4c86-9c56-5049b69f96c1",
   "metadata": {},
   "outputs": [],
   "source": [
    "url_event_types = []\n",
    "# Perform search on Tagvenue using each of the available event types\n",
    "# and extract the text used in the search url to denote the event type\n",
    "for form_event_type in form_event_types: \n",
    "    url_event_type = find_url_event_type(form_event_type)\n",
    "    url_event_types.append(url_event_type)"
   ]
  },
  {
   "cell_type": "code",
   "execution_count": 40,
   "id": "00635eed-106f-419b-83ab-5d2cb0e6ae81",
   "metadata": {},
   "outputs": [
    {
     "name": "stdout",
     "output_type": "stream",
     "text": [
      "Found 5 search url event types\n"
     ]
    }
   ],
   "source": [
    "print(f\"Found {len(url_event_types)} search url event types\")"
   ]
  },
  {
   "cell_type": "code",
   "execution_count": 43,
   "id": "ed724a23-6f10-4a79-bc8a-85bc303c9473",
   "metadata": {},
   "outputs": [
    {
     "data": {
      "text/plain": [
       "['18th-birthday-party',\n",
       " '30th-birthday-party',\n",
       " '40th-birthday-party',\n",
       " '50th-birthday-party',\n",
       " 'academic-venues']"
      ]
     },
     "execution_count": 43,
     "metadata": {},
     "output_type": "execute_result"
    }
   ],
   "source": [
    "# Show first 10 event types\n",
    "url_event_types[0:10]"
   ]
  },
  {
   "cell_type": "markdown",
   "id": "3319ba4e-a704-4056-abaf-e7a837f14a79",
   "metadata": {},
   "source": [
    "We can build a custom search url from an event type and latitude and longitude maximum and minimum values. This url will return search results showing all spaces within the defined latitude and longitude range that are suitable for the event type chosen. We chose to use a custom url so that we had full control over the latitude and longitude ranges. If we had used the Tagvenue search page to generate a search url, we would have to rely on Tagvenue's definition of the area of London.   \n",
    "\n",
    "An example custom search url is shown below: \n",
    "\n",
    "https://www.tagvenue.com/uk/search/18th-birthday-party?longitude_from=-0.270&longitude_to=0.069&latitude_from=51.31&latitude_to=51.69&page=1\n",
    "\n",
    "We also include the page number in the url. The search results display 36 results per page. The page number defines which page of the results to show. We included this in our custom url because the Tagvenue website alters the url in Chrome after it shows you the results. This alteration changes the latitude and longitude values. As such, if you navigate to another page by selecting a page using the page navigation links at the bottom of the results, it will display spaces from the new longitude and latitude range, and not from the range in the original search url. As a result, when we want to navigate to a new page of the search results, we create a new search result url with an updated page number. This keeps the latitude and longitude range constant as we navigate through results pages.   \n",
    "\n",
    "Below, we define the function to create a custom search url from an event type and page number (note that the latitude and longitude ranges are defined in the Key Variables section above.)"
   ]
  },
  {
   "cell_type": "code",
   "execution_count": 19,
   "id": "16425f04-c132-41aa-86c9-4bc3bc0b4290",
   "metadata": {},
   "outputs": [],
   "source": [
    "# Tagvenues changes the longitude and latitude values of the url in \n",
    "# Chrome after you load the url, so you need to recreate the whole url\n",
    "# whenever you change page or event type to keep the results within \n",
    "# the desired longitude and latitude range. \n",
    "def create_search_url(event_type, page):\n",
    "    \"\"\"Build and return search url string\"\"\"\n",
    "    return f\"\"\"https://www.tagvenue.com/uk/search/{event_type}?\n",
    "           longitude_from={longitude_min}&longitude_to={longitude_max}\n",
    "           &latitude_from={latitude_min}&latitude_to={latitude_max}&page={page}\"\"\""
   ]
  },
  {
   "cell_type": "markdown",
   "id": "eb46652c-e782-4c30-b678-98bc06a56db2",
   "metadata": {},
   "source": [
    "### Collect Space URLs From Search Results\n",
    "\n",
    "Using custom search urls, we can search for space's within our defined latitude and longitude ranges. The url will return a search results page as shown in the image below:  \n",
    "\n",
    "![alt text](images/tag_venue_search_results.png)\n",
    "\n",
    "Each space returned by the search is shown as a clickable picture. Clicking on the picture will take you to the web page of that space. We want to gather the urls of every space web page in the results. Once we have all the space urls, we can start scraping data from them.\n",
    "\n",
    "The results page will only show spaces which are suitable for the event type in the search url. As such, we will need to repeat the search for all ~190 event types to ensure that we find every space hosted on the website. The spaces will be duplicated in different search results i.e. sometimes the same space will appear for 'corporate event' and '18th Birthday party'. As such, we will need to remove duplicates at the end. We could have used a *set()* to hold the list of space urls, which would negate the need to remove duplicates at the end. However, it was determined that it was useful when reporting the progress of the scrape, to be able to count the total number of urls scraped. "
   ]
  },
  {
   "cell_type": "code",
   "execution_count": 20,
   "id": "f7f2237c-0776-4187-b96b-87aec2a22188",
   "metadata": {},
   "outputs": [],
   "source": [
    "def find_total_results_pages():\n",
    "    \"\"\"Returns the number of pages of search results showing in Chrome\"\"\"\n",
    "    # Find pagination html elements - these create the clickable page\n",
    "    # numbers and arrows at bottom of search results page to naviagte \n",
    "    # through search results pages \n",
    "    pagination_elements = driver.find_elements_by_xpath(\n",
    "        \"//div[@class='results-pagination results-pagination--center']/ul/li/a\")\n",
    "    # Convert pagination elements to text values  \n",
    "    pagination = [element.get_attribute('innerHTML') \n",
    "                  for element in pagination_elements]\n",
    "    # If list is not empty i.e. len > 0 then return second last \n",
    "    # element - this is the total number of pages\n",
    "    if (len(pagination) > 1):\n",
    "        return int(pagination[-2])\n",
    "    # If list empty, then there is only one page, return 1\n",
    "    else: return 1"
   ]
  },
  {
   "cell_type": "code",
   "execution_count": null,
   "id": "fe282fa3-74ac-4818-aa66-8fcb875553df",
   "metadata": {},
   "outputs": [],
   "source": [
    "# This block is just for creating a search url for debugging purposes \n",
    "#event_type = 'pop-up-event'\n",
    "#event_type = 'corporate-event'\n",
    "#page = 1\n",
    "#search_url = create_search_url('kids-partybus', page)\n",
    "#load_page(search_url) "
   ]
  },
  {
   "cell_type": "code",
   "execution_count": 21,
   "id": "297701bd-c646-4232-9c0b-7029a690f445",
   "metadata": {},
   "outputs": [],
   "source": [
    "def get_space_urls():\n",
    "    \"\"\"Returns the url of every space webpage result showing in Chrome.\"\"\"\n",
    "    # Find the html elements of the urls of spaces returned by the search\n",
    "    search_result_url_elements = driver.find_elements_by_xpath(\"//div[@class='v-search-results-items']/div/a\")\n",
    "    if(len(search_result_url_elements) == 0):\n",
    "        try:\n",
    "            no_search_results_message_element = driver.find_element_by_xpath(\"//h3\")\n",
    "            no_search_results_message = no_search_results_message_element.get_attribute('innerHTML')\n",
    "            no_search_results_message = no_search_results_message.replace(\"'\", \"\").lower().strip()\n",
    "            expected_message = ('sorry, we couldnt find any venues matching your criteria.')\n",
    "            if(no_search_results_message != expected_message):\n",
    "                scraping_error_log.append([search_url, 'search url failed'])\n",
    "        except NoSuchElementException: \n",
    "            scraping_error_log.append([search_url, 'search url failed'])\n",
    "\n",
    "    return [element.get_attribute('href') for element in search_result_url_elements]"
   ]
  },
  {
   "cell_type": "markdown",
   "id": "0a819b11-bda1-4ee2-9dc6-b81eafd969b2",
   "metadata": {},
   "source": [
    "- Need a tagvenue specific failed url test OOPs error!!! - need errors to include event_type\n",
    "- add progress complete and time taken bit\n",
    "- manually fix event type issue - or worse case use selenium to manually search through 190 different auto-complete options and add the correct bit..."
   ]
  },
  {
   "cell_type": "code",
   "execution_count": null,
   "id": "a10f238c-eeee-4bed-a6fa-d969941c5ab3",
   "metadata": {},
   "outputs": [],
   "source": [
    "# Ignore, left in for testing / debugging purposes\n",
    "#event_types = event_types[0:7]"
   ]
  },
  {
   "cell_type": "code",
   "execution_count": 30,
   "id": "92922900-bc07-4581-b215-ad0cefb9f370",
   "metadata": {},
   "outputs": [
    {
     "name": "stdout",
     "output_type": "stream",
     "text": [
      "0.0003581047058105469\n",
      "Scraped 1 of 5 event_types\n",
      "Approximately 0.25 pages of search results scraped\n",
      "\n",
      "0.1997997760772705\n",
      "0.6479842662811279\n",
      "Scraped 2 of 5 event_types\n",
      "Approximately 2.138888888888889 pages of search results scraped\n",
      "\n",
      "0.4792027473449707\n",
      "0.5636961460113525\n",
      "Scraped 3 of 5 event_types\n",
      "Approximately 4.027777777777778 pages of search results scraped\n",
      "\n",
      "0.4968390464782715\n",
      "0.5072238445281982\n",
      "Scraped 4 of 5 event_types\n",
      "Approximately 5.916666666666667 pages of search results scraped\n",
      "\n",
      "0.4110429286956787\n"
     ]
    }
   ],
   "source": [
    "space_urls = []\n",
    "time_last_update = time.time()\n",
    "total_event_types = len(url_event_types)\n",
    "\n",
    "for event_number, event_type in enumerate(url_event_types): \n",
    "    if (time.time() - time_last_update > progress_report_interval):\n",
    "        print(f\"Scraped {event_number} of {total_event_types} event_types\")\n",
    "        pages_of_urls_scraped = len(space_urls)/36\n",
    "        print(f\"Approximately {pages_of_urls_scraped:0} pages of search results scraped\\n\")\n",
    "        time_last_update = time.time()\n",
    "    search_url = create_search_url(event_type, 1)\n",
    "    load_page(search_url)\n",
    "    total_pages = find_total_results_pages()\n",
    "    for current_page in range(1, total_pages + 1):\n",
    "        space_urls.extend(get_space_urls())\n",
    "        if(current_page < total_pages):\n",
    "            search_url = create_search_url(event_type, current_page + 1)\n",
    "            load_page(search_url)"
   ]
  },
  {
   "cell_type": "markdown",
   "id": "cc3ab55d-9692-42a7-a6fa-cb3c15884572",
   "metadata": {},
   "source": [
    "note: if page fails to load then it will result in search url failed error as well - need to rerun whole search url and scrape all its pages rather than just redoing the pages that failed in case the 'total pages' calculation was incorrect due to page load error and calculated it as 1 "
   ]
  },
  {
   "cell_type": "markdown",
   "id": "4956bcea-0a3d-4aaa-b4cf-492f8d051b63",
   "metadata": {},
   "source": [
    "### Scraping Error Log\n",
    "If the scraping of a venue was aborted due to a page load error, it is displayed below: "
   ]
  },
  {
   "cell_type": "code",
   "execution_count": 150,
   "id": "dd1275e5-a9dd-47a2-baaa-6ae912aefff1",
   "metadata": {},
   "outputs": [
    {
     "data": {
      "text/html": [
       "<style type=\"text/css\">\n",
       "</style>\n",
       "<table id=\"T_0c985_\">\n",
       "  <thead>\n",
       "    <tr>\n",
       "      <th class=\"blank level0\" >&nbsp;</th>\n",
       "      <th class=\"col_heading level0 col0\" >url</th>\n",
       "      <th class=\"col_heading level0 col1\" >error</th>\n",
       "    </tr>\n",
       "  </thead>\n",
       "  <tbody>\n",
       "  </tbody>\n",
       "</table>\n"
      ],
      "text/plain": [
       "<pandas.io.formats.style.Styler at 0x10c8646a0>"
      ]
     },
     "execution_count": 150,
     "metadata": {},
     "output_type": "execute_result"
    }
   ],
   "source": [
    "scrape_errors = pd.DataFrame(scraping_error_log, columns = ['url','error'])\n",
    "# Function to make urls clickable in jupyter\n",
    "def make_clickable(val):\n",
    "    return '<a href=\"{}\">{}</a>'.format(val,val)\n",
    "\n",
    "scrape_errors.style.format({'url': make_clickable})"
   ]
  },
  {
   "cell_type": "code",
   "execution_count": 151,
   "id": "15c109dc-6012-46df-b984-56a0eb262a85",
   "metadata": {},
   "outputs": [
    {
     "name": "stdout",
     "output_type": "stream",
     "text": [
      "There are 5505 spaces to scrape\n"
     ]
    }
   ],
   "source": [
    "space_urls_unique = list(set(space_urls))\n",
    "print(f\"There are {len(space_urls_unique)} spaces to scrape\")"
   ]
  },
  {
   "cell_type": "code",
   "execution_count": 157,
   "id": "e7c824c3-7b35-4717-aac0-539d89bf2a1b",
   "metadata": {},
   "outputs": [],
   "source": [
    "# Save space_urls_uniqe to file (as json)\n",
    "with open(\"space_urls.json\", 'w') as f:\n",
    "    # indent=2 is not needed but makes the file human-readable\n",
    "    json.dump(space_urls_unique, f, indent=2) "
   ]
  },
  {
   "cell_type": "markdown",
   "id": "fe711b02-af93-4135-a8d4-20413f33ca48",
   "metadata": {},
   "source": [
    "If you wish to load a saved list of space urls, remove #s and run the below. "
   ]
  },
  {
   "cell_type": "code",
   "execution_count": 49,
   "id": "7f42d7cd-1834-40e1-985a-f19ec05e902e",
   "metadata": {},
   "outputs": [
    {
     "name": "stdout",
     "output_type": "stream",
     "text": [
      "There are 5505 spaces to scrape\n"
     ]
    }
   ],
   "source": [
    "#with open(\"space_urls.json\", 'r') as f:\n",
    "#    space_urls_unique = json.load(f)\n",
    "\n",
    "#print(f\"There are {len(space_urls_unique)} spaces to scrape\")"
   ]
  },
  {
   "cell_type": "code",
   "execution_count": 50,
   "id": "5443706e-34c2-41dc-a7f1-cc6b813bf42c",
   "metadata": {},
   "outputs": [
    {
     "name": "stdout",
     "output_type": "stream",
     "text": [
      "All urls with a '?' are of form '?event-offer'\n",
      "Removed 1017 urls containing '?event-offer' \n",
      "There are now 4488 space urls\n"
     ]
    }
   ],
   "source": [
    "urls_df = pd.DataFrame(space_urls_unique)\n",
    "\n",
    "urls_with_qmark = urls_df[urls_df[0].str.contains('\\?')].shape[0]\n",
    "urls_with_qmark_event_offer = urls_df[urls_df[0].str.contains('\\?event-offer')].shape[0]\n",
    "if (urls_with_qmark == urls_with_qmark_event_offer): \n",
    "    print(f\"All urls with a '?' are of form '?event-offer'\" )\n",
    "else: \n",
    "    print(f\"There are urls with '?' not of the form '?event-offer'\")\n",
    "\n",
    "space_urls_cleaned = urls_df[~urls_df[0].str.contains('\\?event-offer')][0].to_list()\n",
    "print(f\"Removed {urls_with_qmark_event_offer} urls containing '?event-offer' \\nThere are now {len(space_urls_cleaned)} space urls\")"
   ]
  },
  {
   "cell_type": "markdown",
   "id": "413e74b8-f934-4932-ad2a-a652d92186d0",
   "metadata": {},
   "source": [
    "Below shows all urls that contain a '?' but don't contain 'event-offer'"
   ]
  },
  {
   "cell_type": "code",
   "execution_count": 7,
   "id": "d01e0c41-5b93-4a52-b8c5-bf99fbad6ba4",
   "metadata": {},
   "outputs": [
    {
     "ename": "NameError",
     "evalue": "name 'make_clickable' is not defined",
     "output_type": "error",
     "traceback": [
      "\u001b[0;31m---------------------------------------------------------------------------\u001b[0m",
      "\u001b[0;31mNameError\u001b[0m                                 Traceback (most recent call last)",
      "\u001b[0;32m/var/folders/3z/dqb7xjp13pg6n8dk8d2gscy40000gn/T/ipykernel_37485/841293606.py\u001b[0m in \u001b[0;36m<module>\u001b[0;34m\u001b[0m\n\u001b[1;32m      1\u001b[0m \u001b[0mview\u001b[0m \u001b[0;34m=\u001b[0m \u001b[0murls_df\u001b[0m\u001b[0;34m[\u001b[0m\u001b[0;34m(\u001b[0m\u001b[0murls_df\u001b[0m\u001b[0;34m[\u001b[0m\u001b[0;36m0\u001b[0m\u001b[0;34m]\u001b[0m\u001b[0;34m.\u001b[0m\u001b[0mstr\u001b[0m\u001b[0;34m.\u001b[0m\u001b[0mcontains\u001b[0m\u001b[0;34m(\u001b[0m\u001b[0;34m'\\?'\u001b[0m\u001b[0;34m)\u001b[0m\u001b[0;34m)\u001b[0m\u001b[0;34m&\u001b[0m\u001b[0;34m(\u001b[0m\u001b[0;34m~\u001b[0m\u001b[0murls_df\u001b[0m\u001b[0;34m[\u001b[0m\u001b[0;36m0\u001b[0m\u001b[0;34m]\u001b[0m\u001b[0;34m.\u001b[0m\u001b[0mstr\u001b[0m\u001b[0;34m.\u001b[0m\u001b[0mcontains\u001b[0m\u001b[0;34m(\u001b[0m\u001b[0;34m'event-offer'\u001b[0m\u001b[0;34m)\u001b[0m\u001b[0;34m)\u001b[0m\u001b[0;34m]\u001b[0m\u001b[0;34m\u001b[0m\u001b[0;34m\u001b[0m\u001b[0m\n\u001b[0;32m----> 2\u001b[0;31m \u001b[0mview\u001b[0m\u001b[0;34m.\u001b[0m\u001b[0mstyle\u001b[0m\u001b[0;34m.\u001b[0m\u001b[0mformat\u001b[0m\u001b[0;34m(\u001b[0m\u001b[0;34m{\u001b[0m\u001b[0;36m0\u001b[0m\u001b[0;34m:\u001b[0m \u001b[0mmake_clickable\u001b[0m\u001b[0;34m}\u001b[0m\u001b[0;34m)\u001b[0m\u001b[0;34m\u001b[0m\u001b[0;34m\u001b[0m\u001b[0m\n\u001b[0m",
      "\u001b[0;31mNameError\u001b[0m: name 'make_clickable' is not defined"
     ]
    }
   ],
   "source": [
    "view = urls_df[(urls_df[0].str.contains('\\?'))&(~urls_df[0].str.contains('event-offer'))]\n",
    "view.style.format({0: make_clickable})"
   ]
  },
  {
   "cell_type": "markdown",
   "id": "7921434e-a375-4db2-8e52-91103943bcd0",
   "metadata": {},
   "source": [
    "The below code is useful for searching through the venue urls to see the different venues and to find different packages available at the venues. "
   ]
  },
  {
   "cell_type": "code",
   "execution_count": 246,
   "id": "6cc8e9c2-cef3-4bb8-9f11-d37ef86a8974",
   "metadata": {},
   "outputs": [
    {
     "data": {
      "text/html": [
       "<style type=\"text/css\">\n",
       "</style>\n",
       "<table id=\"T_3c529_\">\n",
       "  <thead>\n",
       "    <tr>\n",
       "      <th class=\"blank level0\" >&nbsp;</th>\n",
       "      <th class=\"col_heading level0 col0\" >0</th>\n",
       "    </tr>\n",
       "  </thead>\n",
       "  <tbody>\n",
       "    <tr>\n",
       "      <th id=\"T_3c529_level0_row0\" class=\"row_heading level0 row0\" >280</th>\n",
       "      <td id=\"T_3c529_row0_col0\" class=\"data row0 col0\" ><a href=\"https://www.tagvenue.com/rooms/london/3903/tanner-warehouse/tanner-warehouse-courtyard\">https://www.tagvenue.com/rooms/london/3903/tanner-warehouse/tanner-warehouse-courtyard</a></td>\n",
       "    </tr>\n",
       "    <tr>\n",
       "      <th id=\"T_3c529_level0_row1\" class=\"row_heading level0 row1\" >2055</th>\n",
       "      <td id=\"T_3c529_row1_col0\" class=\"data row1 col0\" ><a href=\"https://www.tagvenue.com/rooms/london/3308/tanner-warehouse/industrial-wedding\">https://www.tagvenue.com/rooms/london/3308/tanner-warehouse/industrial-wedding</a></td>\n",
       "    </tr>\n",
       "    <tr>\n",
       "      <th id=\"T_3c529_level0_row2\" class=\"row_heading level0 row2\" >3639</th>\n",
       "      <td id=\"T_3c529_row2_col0\" class=\"data row2 col0\" ><a href=\"https://www.tagvenue.com/rooms/london/321/tanner-warehouse/tanner-warehouse\">https://www.tagvenue.com/rooms/london/321/tanner-warehouse/tanner-warehouse</a></td>\n",
       "    </tr>\n",
       "  </tbody>\n",
       "</table>\n"
      ],
      "text/plain": [
       "<pandas.io.formats.style.Styler at 0x127242c40>"
      ]
     },
     "execution_count": 246,
     "metadata": {},
     "output_type": "execute_result"
    }
   ],
   "source": [
    "# Switch between space_urls_unique and space_urls_cleaned to \n",
    "# get with and without packages, and to find specific venues \n",
    "# or venues with packages e.g. search for '\\?event-offer=wedding' \n",
    "# to get venues with wedding packages\n",
    "urls_df = pd.DataFrame(space_urls_unique)\n",
    "view = urls_df[urls_df[0].str.contains('tanner')]\n",
    "view.style.format({0: make_clickable})"
   ]
  },
  {
   "cell_type": "code",
   "execution_count": null,
   "id": "f7fe2e76-806b-4eec-9608-479292bb76b2",
   "metadata": {},
   "outputs": [],
   "source": [
    "import sys\n",
    "from operator import itemgetter\n",
    "local_vars = list(locals().items())\n",
    "# Size gives us variable size in Bytes\n",
    "size = [[var,sys.getsizeof(obj)] for var, obj in local_vars]\n",
    "size = sorted(size, key=itemgetter(1), reverse = True)\n",
    "for var, size in size:\n",
    "    print(var,f\"-> {size/1000000:,} MB\")"
   ]
  },
  {
   "cell_type": "code",
   "execution_count": 8,
   "id": "7758c0ee-4168-4e7f-88e8-b51ac232b203",
   "metadata": {},
   "outputs": [
    {
     "data": {
      "text/plain": [
       "4488"
      ]
     },
     "execution_count": 8,
     "metadata": {},
     "output_type": "execute_result"
    }
   ],
   "source": [
    "len(space_urls_cleaned)"
   ]
  },
  {
   "cell_type": "markdown",
   "id": "7fd1991e-ca78-4e82-b2cc-c0a5d5ce1c53",
   "metadata": {},
   "source": [
    "### Scrape Space Webpage HTML Code\n",
    "- click on Read all to load venue review breakdown score \n",
    "- error logging \n",
    "- save results..."
   ]
  },
  {
   "cell_type": "code",
   "execution_count": 5,
   "id": "50c08a10-41a1-48ae-8ab7-16761cccff63",
   "metadata": {},
   "outputs": [],
   "source": [
    "def click_read_all():\n",
    "    \"\"\"Clicks 'Read all' button to load breakdown of venue review score.  \n",
    "    \n",
    "    Each venue has an overall user review score. By clicking on \n",
    "    'Read all' you can see a breakdown of the overall review score \n",
    "    into 6 different scoring categories e.g. 'Catering', \n",
    "    'location', 'Value' etc. The function waits until the page has\n",
    "    finished loading to ensure all data has loaded before scraping the html\"\"\"\n",
    "    try:\n",
    "        # Finds 'Read all' button html element\n",
    "        read_all_element = driver.find_element_by_xpath(\n",
    "            \"//button[@class='c-button-link' and contains(text(),'Read all')]\")\n",
    "        read_all_element.click()\n",
    "    except NoSuchElementException:\n",
    "        # End function, no reviews so no 'Read all' button to click\n",
    "        return\n",
    "    \n",
    "    try:\n",
    "        # Wait until page finishes loading following the click \n",
    "        WebDriverWait(driver, 10).until(lambda d: d.execute_script('return document.readyState') == 'complete')\n",
    "    except TimeoutException: \n",
    "        scraping_error_log.append([url, 'failed to load user review score breakdowns'])"
   ]
  },
  {
   "cell_type": "code",
   "execution_count": 10,
   "id": "abee9f56-7bdc-4ae9-96a2-8ddfec464a04",
   "metadata": {},
   "outputs": [
    {
     "name": "stdout",
     "output_type": "stream",
     "text": [
      "Scraped 382 of 4488 -> 8.5% Completed\n",
      "\n",
      "Scraped 1035 of 4488 -> 23.1% Completed\n",
      "\n",
      "Scraped 1672 of 4488 -> 37.3% Completed\n",
      "\n",
      "Scraped 2291 of 4488 -> 51.0% Completed\n",
      "\n",
      "Scraped 2898 of 4488 -> 64.6% Completed\n",
      "\n",
      "Scraped 3476 of 4488 -> 77.5% Completed\n",
      "\n",
      "Scraped 4034 of 4488 -> 89.9% Completed\n",
      "\n"
     ]
    }
   ],
   "source": [
    "# Dictionary storing the url and html of each space webpage, in \n",
    "# format {url:html} \n",
    "space_webpages = {}\n",
    "total_urls_to_scrape = len(space_urls_cleaned)\n",
    "time_last_update = time.time()\n",
    "\n",
    "# Loop through space urls and scrape the html code for each space web page\n",
    "for url_number, url in enumerate(space_urls_cleaned):\n",
    "    if (load_page(url)):\n",
    "        click_read_all()\n",
    "        space_webpages[url] = driver.page_source\n",
    "    if (time.time() - time_last_update > progress_report_interval):\n",
    "        perc_complete = url_number / total_urls_to_scrape\n",
    "        print(f\"Scraped {url_number} of {total_urls_to_scrape} -> {perc_complete:.1%} Completed\\n\")\n",
    "        time_last_update = time.time()"
   ]
  },
  {
   "cell_type": "markdown",
   "id": "8dba648e-9760-491c-90e0-707083a45216",
   "metadata": {},
   "source": [
    "### Errors During Space HTML Scraping\n",
    "If the scraping of a venue was aborted due to a page load error, it is displayed below: "
   ]
  },
  {
   "cell_type": "code",
   "execution_count": 11,
   "id": "2e1c3874-ed10-4cf8-a4c2-d0de7460d6e4",
   "metadata": {},
   "outputs": [
    {
     "data": {
      "text/html": [
       "<style type=\"text/css\">\n",
       "</style>\n",
       "<table id=\"T_21a8f_\">\n",
       "  <thead>\n",
       "    <tr>\n",
       "      <th class=\"blank level0\" >&nbsp;</th>\n",
       "      <th class=\"col_heading level0 col0\" >url</th>\n",
       "      <th class=\"col_heading level0 col1\" >error</th>\n",
       "    </tr>\n",
       "  </thead>\n",
       "  <tbody>\n",
       "  </tbody>\n",
       "</table>\n"
      ],
      "text/plain": [
       "<pandas.io.formats.style.Styler at 0x10fb123a0>"
      ]
     },
     "execution_count": 11,
     "metadata": {},
     "output_type": "execute_result"
    }
   ],
   "source": [
    "scrape_errors = pd.DataFrame(scraping_error_log, columns = ['url','error'])\n",
    "# Function to make urls clickable in jupyter\n",
    "def make_clickable(val):\n",
    "    return '<a href=\"{}\">{}</a>'.format(val,val)\n",
    "\n",
    "scrape_errors.style.format({'url': make_clickable})"
   ]
  },
  {
   "cell_type": "code",
   "execution_count": 12,
   "id": "5bffc4a0-c75f-4583-84d3-eae0b2c9e9ae",
   "metadata": {},
   "outputs": [],
   "source": [
    "# Save space webpage html data to file \n",
    "with open('space_htmls.json', 'w') as fp:\n",
    "    json.dump(space_webpages, fp)"
   ]
  },
  {
   "cell_type": "code",
   "execution_count": 6,
   "id": "a072bc39-0aef-412b-a861-a8509bf26c6c",
   "metadata": {},
   "outputs": [],
   "source": [
    "# Uncomment if you wish to load space_htmls from file\n",
    "#with open('space_htmls.json', 'r') as fp:\n",
    "#    space_webpages = json.load(fp)"
   ]
  },
  {
   "cell_type": "markdown",
   "id": "78dde0a7-b4d2-4b4a-aaa8-93b4091d42d8",
   "metadata": {},
   "source": [
    "### Extract Data From HTML\n",
    "We will use the lxml library to extract useful data from the html code of each space's website. The extraction code handles 2 specific issues detailed below: \n",
    "- Some spaces were no longer hosted by Hire Space and therefore had no data available. The code excludes these venues by checking whether the start of the header reads 'venue no longer hosted'. \n",
    "- Some web pages didn't load properly during scraping. They were missing data and trigger an error during extraction. The extraction code deals with them by re-loading the webpage and trying to extract data from the reloaded page's html.  \n",
    "Any other errors will be handled by aborting the extraction process and adding the error to an error log. "
   ]
  },
  {
   "cell_type": "code",
   "execution_count": 47,
   "id": "31b96961-3d0d-46db-95c6-74db34571d3c",
   "metadata": {},
   "outputs": [],
   "source": [
    "# Error log for extraction errors\n",
    "extraction_error_log = []\n",
    "\n",
    "def extract_data(url, html):\n",
    "    \"\"\"Attempts to extract data from the space url and html provided. \n",
    "    \n",
    "    First, the function checks if the space is no longer hosted by Tagvenue. \n",
    "    If it is hosted, the url and html are passed to the extract_from_html \n",
    "    function which returns the extracted data. If an error occurs during \n",
    "    extraction, the error is logged. \n",
    "    \n",
    "    Returns - Extracted data as a list or returns None if unable to \n",
    "    extract data due to venue no longer being hosted, or due to an \n",
    "    unexpected error. \n",
    "    \"\"\"\n",
    "    # check if the venue is no longer hosted\n",
    "    if (check_page_not_hosted(html)):\n",
    "        # Log extraction error due to venue no longer hosted \n",
    "        extraction_error_log.append([url, 'venue no longer hosted', html])\n",
    "        return None\n",
    "    try:\n",
    "        # Extract the data from the html code\n",
    "        return extract_from_html(url, html)\n",
    "    except Exception as e:\n",
    "        # Log unexpected error, including error message in log\n",
    "        extraction_error_log.append([url, e, html])\n",
    "        return None"
   ]
  },
  {
   "cell_type": "code",
   "execution_count": 8,
   "id": "492c8fda-4fad-488d-b476-b2b54ad6de97",
   "metadata": {},
   "outputs": [],
   "source": [
    "def find_element_by_xpath(xpath):\n",
    "    \"\"\"Returns first element found using provided xpath. \n",
    "    \n",
    "    If no element is found, an error is raised\"\"\"\n",
    "    # Finds all elements from provided Xpath as a list\n",
    "    elements = tree.xpath(xpath)\n",
    "    try:\n",
    "        return elements[0]\n",
    "    except IndexError:\n",
    "        raise IndexError('No element found via provided Xpath')\n",
    "    \n",
    "def find_elements_by_xpath(xpath):\n",
    "    \"\"\"Returns all elements found via provided xpath as a list\"\"\"\n",
    "    return tree.xpath(xpath)"
   ]
  },
  {
   "cell_type": "code",
   "execution_count": 39,
   "id": "6cf56129-f5c4-415d-9cff-d4c8ec739bc9",
   "metadata": {},
   "outputs": [],
   "source": [
    "driver.get('https://www.tagvenue.com/rooms/london/26243/adam-house-event-space/cambric-suite')\n",
    "tree = etree.HTML(driver.page_source)"
   ]
  },
  {
   "cell_type": "code",
   "execution_count": 41,
   "id": "ea2e8e9a-6e38-4236-9c12-d752ca899e33",
   "metadata": {},
   "outputs": [
    {
     "data": {
      "text/plain": [
       "'404'"
      ]
     },
     "execution_count": 41,
     "metadata": {},
     "output_type": "execute_result"
    }
   ],
   "source": [
    "find_element_by_xpath(\"//title/text()\")[0:3]"
   ]
  },
  {
   "cell_type": "code",
   "execution_count": 48,
   "id": "af49c668-e257-437f-b51b-6b360a852847",
   "metadata": {},
   "outputs": [],
   "source": []
  },
  {
   "cell_type": "code",
   "execution_count": 51,
   "id": "afdaad98-7e01-4e69-b616-f964958b9ba9",
   "metadata": {},
   "outputs": [],
   "source": [
    "# WHEN EXPANDING FOR RICH DATA - test and run this function before the 'extract data' \n",
    "# function\n",
    "\n",
    "def extract_from_html(url, html):\n",
    "    \"\"\"Extracts and returns data from provided html.\"\"\"\n",
    "    # Make tree global so that custom lxml find html element functions \n",
    "    # work without having to pass the tree as an argument \n",
    "    global tree\n",
    "    # Parse html with lxml library\n",
    "    tree = etree.HTML(html)\n",
    "    \n",
    "    # Find h1 header html element that contains venue and space name \n",
    "    header_element = find_element_by_xpath(\"//h1\")\n",
    "    # Extract space and venue name string from html element\n",
    "    header = header_element.get('title').lower()\n",
    "    # header has general form 'space_name at venue_name'. Split venue\n",
    "    # and space name into a list using ' at ' as separator. \n",
    "    venue_and_space_name = header.split(' at ')\n",
    "    space_name = venue_and_space_name[0]\n",
    "    venue_name = venue_and_space_name[1]\n",
    "    # If list has more than 2 elements, an issue has occured\n",
    "    if (len(venue_and_space_name) > 2):\n",
    "        # log error - commented out, decided error only affects ~70 spaces and is fixed with below change\n",
    "        #extraction_error_log.append([url, header\n",
    "        #                          + '> error identifying space name and venue name', html])\n",
    "        # Take venue and space name from url. End of url has \n",
    "        # format /venue_name/space_name. We split the url \n",
    "        # into a list with separator '/'\n",
    "        url_split = url.split('/')\n",
    "        # Last element of url split is space_name\n",
    "        space_name = url_split[-1].replace('-',' ')\n",
    "        # Second last element of url split is venue_name\n",
    "        venue_name = url_split[-2].replace('-',' ')\n",
    "\n",
    "    # Find address html element\n",
    "    address_element = find_element_by_xpath(\n",
    "        \"//span[@class='c-room-header__text_link' and contains(text(),',')]\")\n",
    "    # Extract text, remove '\\n's and whitespace\n",
    "    address = address_element.text.replace('\\n','').strip()\n",
    "    \n",
    "    # Find html element for map\n",
    "    map_element = find_element_by_xpath(\"//a[@href='#map-modal']\")\n",
    "    # Extract latitude and convert to float\n",
    "    latitude = float(map_element.get('data-lat'))\n",
    "    # Extract longitude and convert to float\n",
    "    longitude = float(map_element.get('data-long'))\n",
    "\n",
    "    return [url, venue_name, space_name, latitude, longitude, address]"
   ]
  },
  {
   "cell_type": "code",
   "execution_count": 44,
   "id": "1bc96872-f357-4f16-8496-cbe565e3268c",
   "metadata": {},
   "outputs": [],
   "source": [
    "def check_page_not_hosted(html): \n",
    "    \"\"\"Check if venue no longer hosted, return result (True or False)\"\"\"\n",
    "    # Make tree global so that custom lxml find html element functions \n",
    "    # work without having to pass the tree as an argument \n",
    "    global tree\n",
    "    # Parse html with lxml library\n",
    "    tree = etree.HTML(html)\n",
    "    # Find text of title\n",
    "    title = find_element_by_xpath(\"//title/text()\")\n",
    "    # When not hosted, Tagvenue returns a 404 error at the \n",
    "    # beggining of the html title  \n",
    "    if (title[0:3] == '404'):\n",
    "        return True\n",
    "    return False"
   ]
  },
  {
   "cell_type": "code",
   "execution_count": 10,
   "id": "22f2bd77-8640-4248-8cd9-c5fcbd08524a",
   "metadata": {},
   "outputs": [],
   "source": [
    "space_webpages_test = {url:html for url, html in list(space_webpages.items())[0:10]}"
   ]
  },
  {
   "cell_type": "code",
   "execution_count": 11,
   "id": "1a0c0079-1804-4be3-a5b3-c4ed4e892bd7",
   "metadata": {},
   "outputs": [
    {
     "data": {
      "text/plain": [
       "dict_keys(['https://www.tagvenue.com/rooms/london/7552/graeae-theatre-company/creative-hub', 'https://www.tagvenue.com/rooms/london/6679/city-cruises-ltd/christmas-cruises', 'https://www.tagvenue.com/rooms/london/7134/jamies-tudor-street/ground-floor-room', 'https://www.tagvenue.com/rooms/london/20299/the-fisheries/the-boardroom', 'https://www.tagvenue.com/rooms/london/6854/brewers-hall/livery-hall', 'https://www.tagvenue.com/rooms/london/8287/1-wimpole-street/ent-room', 'https://www.tagvenue.com/rooms/london/24727/studio-spaces/full-venue', 'https://www.tagvenue.com/rooms/london/2451/3-perseverance-works/studio', 'https://www.tagvenue.com/rooms/london/23541/cococure/basement', 'https://www.tagvenue.com/rooms/london/1358/grand-ballroom-at-the-montcalm/grand-ballroom'])"
      ]
     },
     "execution_count": 11,
     "metadata": {},
     "output_type": "execute_result"
    }
   ],
   "source": [
    "space_webpages_test.keys()"
   ]
  },
  {
   "cell_type": "code",
   "execution_count": 51,
   "id": "0a55b245-3905-4342-bc58-564acba23c2e",
   "metadata": {},
   "outputs": [
    {
     "data": {
      "text/plain": [
       "['https://www.tagvenue.com/rooms/london/7552/graeae-theatre-company/creative-hub',\n",
       " 'https://www.tagvenue.com/rooms/london/6679/city-cruises-ltd/christmas-cruises',\n",
       " 'https://www.tagvenue.com/rooms/london/7134/jamies-tudor-street/ground-floor-room',\n",
       " 'https://www.tagvenue.com/rooms/london/20299/the-fisheries/the-boardroom',\n",
       " 'https://www.tagvenue.com/rooms/london/6854/brewers-hall/livery-hall',\n",
       " 'https://www.tagvenue.com/rooms/london/8287/1-wimpole-street/ent-room',\n",
       " 'https://www.tagvenue.com/rooms/london/24727/studio-spaces/full-venue',\n",
       " 'https://www.tagvenue.com/rooms/london/2451/3-perseverance-works/studio',\n",
       " 'https://www.tagvenue.com/rooms/london/23541/cococure/basement',\n",
       " 'https://www.tagvenue.com/rooms/london/1358/grand-ballroom-at-the-montcalm/grand-ballroom']"
      ]
     },
     "execution_count": 51,
     "metadata": {},
     "output_type": "execute_result"
    }
   ],
   "source": [
    "space_urls_cleaned[0:10]"
   ]
  },
  {
   "cell_type": "code",
   "execution_count": 58,
   "id": "cb2c4381-7bd2-495c-bb24-8f41f398c80c",
   "metadata": {},
   "outputs": [
    {
     "name": "stdout",
     "output_type": "stream",
     "text": [
      "4481 spaces were successfully scraped\n"
     ]
    }
   ],
   "source": [
    "# Extract data from the space webpages that were scraped\n",
    "data = [extract_data(url, html) for url, html in space_webpages.items()]\n",
    "# Remove None entries in data (These are from the erroneous \n",
    "# web pages that couldn't be scraped)\n",
    "data = [item for item in data if (item != None)]\n",
    "print(f\"{len(data)} spaces were successfully scraped\")"
   ]
  },
  {
   "cell_type": "markdown",
   "id": "b5a2f186-4b7d-404b-9911-26cab49c56d8",
   "metadata": {},
   "source": [
    "### Extraction Error Log\n",
    "If extraction failed on a webpage, display error below along with error message. "
   ]
  },
  {
   "cell_type": "code",
   "execution_count": 59,
   "id": "a2fdc9c4-1e8d-4922-8624-39523e9ae584",
   "metadata": {},
   "outputs": [
    {
     "data": {
      "text/html": [
       "<style type=\"text/css\">\n",
       "</style>\n",
       "<table id=\"T_f26b5_\">\n",
       "  <thead>\n",
       "    <tr>\n",
       "      <th class=\"blank level0\" >&nbsp;</th>\n",
       "      <th class=\"col_heading level0 col0\" >url</th>\n",
       "      <th class=\"col_heading level0 col1\" >error</th>\n",
       "    </tr>\n",
       "  </thead>\n",
       "  <tbody>\n",
       "    <tr>\n",
       "      <th id=\"T_f26b5_level0_row0\" class=\"row_heading level0 row0\" >0</th>\n",
       "      <td id=\"T_f26b5_row0_col0\" class=\"data row0 col0\" ><a href=\"https://www.tagvenue.com/rooms/london/1358/grand-ballroom-at-the-montcalm/grand-ballroom\">https://www.tagvenue.com/rooms/london/1358/grand-ballroom-at-the-montcalm/grand-ballroom</a></td>\n",
       "      <td id=\"T_f26b5_row0_col1\" class=\"data row0 col1\" >grand ballroom at grand ballroom at the montcalm> error identifying space name and venue name</td>\n",
       "    </tr>\n",
       "    <tr>\n",
       "      <th id=\"T_f26b5_level0_row1\" class=\"row_heading level0 row1\" >1</th>\n",
       "      <td id=\"T_f26b5_row1_col0\" class=\"data row1 col0\" ><a href=\"https://www.tagvenue.com/rooms/london/1175/headspace-farringdon/kings-landing-at-headspace\">https://www.tagvenue.com/rooms/london/1175/headspace-farringdon/kings-landing-at-headspace</a></td>\n",
       "      <td id=\"T_f26b5_row1_col1\" class=\"data row1 col1\" >kings landing at headspace! at headspace farringdon> error identifying space name and venue name</td>\n",
       "    </tr>\n",
       "    <tr>\n",
       "      <th id=\"T_f26b5_level0_row2\" class=\"row_heading level0 row2\" >2</th>\n",
       "      <td id=\"T_f26b5_row2_col0\" class=\"data row2 col0\" ><a href=\"https://www.tagvenue.com/rooms/london/661/indigo-at-the-o2/indigo-at-the-o2-vip-lounge\">https://www.tagvenue.com/rooms/london/661/indigo-at-the-o2/indigo-at-the-o2-vip-lounge</a></td>\n",
       "      <td id=\"T_f26b5_row2_col1\" class=\"data row2 col1\" >indigo at the o2 vip lounge at indigo at the o2> error identifying space name and venue name</td>\n",
       "    </tr>\n",
       "    <tr>\n",
       "      <th id=\"T_f26b5_level0_row3\" class=\"row_heading level0 row3\" >3</th>\n",
       "      <td id=\"T_f26b5_row3_col0\" class=\"data row3 col0\" ><a href=\"https://www.tagvenue.com/rooms/london/655/searcys-at-the-gherkin/exclusive-hire-of-helix-iris\">https://www.tagvenue.com/rooms/london/655/searcys-at-the-gherkin/exclusive-hire-of-helix-iris</a></td>\n",
       "      <td id=\"T_f26b5_row3_col1\" class=\"data row3 col1\" >exclusive hire of helix & iris at searcys at the gherkin> error identifying space name and venue name</td>\n",
       "    </tr>\n",
       "    <tr>\n",
       "      <th id=\"T_f26b5_level0_row4\" class=\"row_heading level0 row4\" >4</th>\n",
       "      <td id=\"T_f26b5_row4_col0\" class=\"data row4 col0\" ><a href=\"https://www.tagvenue.com/rooms/london/7073/jamies-st-mary-at-hill/the-hooke-room\">https://www.tagvenue.com/rooms/london/7073/jamies-st-mary-at-hill/the-hooke-room</a></td>\n",
       "      <td id=\"T_f26b5_row4_col1\" class=\"data row4 col1\" >the hooke room at jamies st mary at hill> error identifying space name and venue name</td>\n",
       "    </tr>\n",
       "    <tr>\n",
       "      <th id=\"T_f26b5_level0_row5\" class=\"row_heading level0 row5\" >5</th>\n",
       "      <td id=\"T_f26b5_row5_col0\" class=\"data row5 col0\" ><a href=\"https://www.tagvenue.com/rooms/london/6049/searcys-at-the-gherkin/exclusive-hire-level-38\">https://www.tagvenue.com/rooms/london/6049/searcys-at-the-gherkin/exclusive-hire-level-38</a></td>\n",
       "      <td id=\"T_f26b5_row5_col1\" class=\"data row5 col1\" >exclusive hire level 38 at searcys at the gherkin> error identifying space name and venue name</td>\n",
       "    </tr>\n",
       "    <tr>\n",
       "      <th id=\"T_f26b5_level0_row6\" class=\"row_heading level0 row6\" >6</th>\n",
       "      <td id=\"T_f26b5_row6_col0\" class=\"data row6 col0\" ><a href=\"https://www.tagvenue.com/rooms/london/26243/adam-house-event-space/cambric-suite\">https://www.tagvenue.com/rooms/london/26243/adam-house-event-space/cambric-suite</a></td>\n",
       "      <td id=\"T_f26b5_row6_col1\" class=\"data row6 col1\" >venue no longer hosted</td>\n",
       "    </tr>\n",
       "    <tr>\n",
       "      <th id=\"T_f26b5_level0_row7\" class=\"row_heading level0 row7\" >7</th>\n",
       "      <td id=\"T_f26b5_row7_col0\" class=\"data row7 col0\" ><a href=\"https://www.tagvenue.com/rooms/london/7862/be-at-one-regent-street/whole-venue\">https://www.tagvenue.com/rooms/london/7862/be-at-one-regent-street/whole-venue</a></td>\n",
       "      <td id=\"T_f26b5_row7_col1\" class=\"data row7 col1\" >whole venue at be at one regent street> error identifying space name and venue name</td>\n",
       "    </tr>\n",
       "    <tr>\n",
       "      <th id=\"T_f26b5_level0_row8\" class=\"row_heading level0 row8\" >8</th>\n",
       "      <td id=\"T_f26b5_row8_col0\" class=\"data row8 col0\" ><a href=\"https://www.tagvenue.com/rooms/london/7024/jamies-st-mary-at-hill/whisky-room\">https://www.tagvenue.com/rooms/london/7024/jamies-st-mary-at-hill/whisky-room</a></td>\n",
       "      <td id=\"T_f26b5_row8_col1\" class=\"data row8 col1\" >whisky room at jamies st mary at hill> error identifying space name and venue name</td>\n",
       "    </tr>\n",
       "    <tr>\n",
       "      <th id=\"T_f26b5_level0_row9\" class=\"row_heading level0 row9\" >9</th>\n",
       "      <td id=\"T_f26b5_row9_col0\" class=\"data row9 col0\" ><a href=\"https://www.tagvenue.com/rooms/london/12713/hello-darling/darling-house\">https://www.tagvenue.com/rooms/london/12713/hello-darling/darling-house</a></td>\n",
       "      <td id=\"T_f26b5_row9_col1\" class=\"data row9 col1\" >venue no longer hosted</td>\n",
       "    </tr>\n",
       "    <tr>\n",
       "      <th id=\"T_f26b5_level0_row10\" class=\"row_heading level0 row10\" >10</th>\n",
       "      <td id=\"T_f26b5_row10_col0\" class=\"data row10 col0\" ><a href=\"https://www.tagvenue.com/rooms/london/7823/be-at-one-shoe-lane/club-room\">https://www.tagvenue.com/rooms/london/7823/be-at-one-shoe-lane/club-room</a></td>\n",
       "      <td id=\"T_f26b5_row10_col1\" class=\"data row10 col1\" >club room at be at one shoe lane> error identifying space name and venue name</td>\n",
       "    </tr>\n",
       "    <tr>\n",
       "      <th id=\"T_f26b5_level0_row11\" class=\"row_heading level0 row11\" >11</th>\n",
       "      <td id=\"T_f26b5_row11_col0\" class=\"data row11 col0\" ><a href=\"https://www.tagvenue.com/rooms/london/2911/food-at-52/kitchen-lounge\">https://www.tagvenue.com/rooms/london/2911/food-at-52/kitchen-lounge</a></td>\n",
       "      <td id=\"T_f26b5_row11_col1\" class=\"data row11 col1\" >kitchen & lounge at food at 52> error identifying space name and venue name</td>\n",
       "    </tr>\n",
       "    <tr>\n",
       "      <th id=\"T_f26b5_level0_row12\" class=\"row_heading level0 row12\" >12</th>\n",
       "      <td id=\"T_f26b5_row12_col0\" class=\"data row12 col0\" ><a href=\"https://www.tagvenue.com/rooms/london/1840/davys-at-plantation-place/the-office\">https://www.tagvenue.com/rooms/london/1840/davys-at-plantation-place/the-office</a></td>\n",
       "      <td id=\"T_f26b5_row12_col1\" class=\"data row12 col1\" >the office at davy's at plantation place> error identifying space name and venue name</td>\n",
       "    </tr>\n",
       "    <tr>\n",
       "      <th id=\"T_f26b5_level0_row13\" class=\"row_heading level0 row13\" >13</th>\n",
       "      <td id=\"T_f26b5_row13_col0\" class=\"data row13 col0\" ><a href=\"https://www.tagvenue.com/rooms/london/24662/the-residence-at-holmes-hotel-london/the-conservatory\">https://www.tagvenue.com/rooms/london/24662/the-residence-at-holmes-hotel-london/the-conservatory</a></td>\n",
       "      <td id=\"T_f26b5_row13_col1\" class=\"data row13 col1\" >the conservatory at the residence at holmes hotel london> error identifying space name and venue name</td>\n",
       "    </tr>\n",
       "    <tr>\n",
       "      <th id=\"T_f26b5_level0_row14\" class=\"row_heading level0 row14\" >14</th>\n",
       "      <td id=\"T_f26b5_row14_col0\" class=\"data row14 col0\" ><a href=\"https://www.tagvenue.com/rooms/london/660/indigo-at-the-o2/indigo-at-the-o2-ground-floor\">https://www.tagvenue.com/rooms/london/660/indigo-at-the-o2/indigo-at-the-o2-ground-floor</a></td>\n",
       "      <td id=\"T_f26b5_row14_col1\" class=\"data row14 col1\" >indigo at the o2 ground floor at indigo at the o2> error identifying space name and venue name</td>\n",
       "    </tr>\n",
       "    <tr>\n",
       "      <th id=\"T_f26b5_level0_row15\" class=\"row_heading level0 row15\" >15</th>\n",
       "      <td id=\"T_f26b5_row15_col0\" class=\"data row15 col0\" ><a href=\"https://www.tagvenue.com/rooms/london/13555/coach-house-at-the-dog-fox/whole-venue\">https://www.tagvenue.com/rooms/london/13555/coach-house-at-the-dog-fox/whole-venue</a></td>\n",
       "      <td id=\"T_f26b5_row15_col1\" class=\"data row15 col1\" >whole venue at coach house at the dog & fox> error identifying space name and venue name</td>\n",
       "    </tr>\n",
       "    <tr>\n",
       "      <th id=\"T_f26b5_level0_row16\" class=\"row_heading level0 row16\" >16</th>\n",
       "      <td id=\"T_f26b5_row16_col0\" class=\"data row16 col0\" ><a href=\"https://www.tagvenue.com/rooms/london/2788/pennethornes-bar-at-somerset-house/drawing-room\">https://www.tagvenue.com/rooms/london/2788/pennethornes-bar-at-somerset-house/drawing-room</a></td>\n",
       "      <td id=\"T_f26b5_row16_col1\" class=\"data row16 col1\" >drawing room at pennethorne's bar at somerset house> error identifying space name and venue name</td>\n",
       "    </tr>\n",
       "    <tr>\n",
       "      <th id=\"T_f26b5_level0_row17\" class=\"row_heading level0 row17\" >17</th>\n",
       "      <td id=\"T_f26b5_row17_col0\" class=\"data row17 col0\" ><a href=\"https://www.tagvenue.com/rooms/london/21004/coach-house-at-the-dog-fox/front-room\">https://www.tagvenue.com/rooms/london/21004/coach-house-at-the-dog-fox/front-room</a></td>\n",
       "      <td id=\"T_f26b5_row17_col1\" class=\"data row17 col1\" >front room at coach house at the dog & fox> error identifying space name and venue name</td>\n",
       "    </tr>\n",
       "    <tr>\n",
       "      <th id=\"T_f26b5_level0_row18\" class=\"row_heading level0 row18\" >18</th>\n",
       "      <td id=\"T_f26b5_row18_col0\" class=\"data row18 col0\" ><a href=\"https://www.tagvenue.com/rooms/london/7090/jamies-st-mary-at-hill/whole-venue\">https://www.tagvenue.com/rooms/london/7090/jamies-st-mary-at-hill/whole-venue</a></td>\n",
       "      <td id=\"T_f26b5_row18_col1\" class=\"data row18 col1\" >whole venue at jamies st mary at hill> error identifying space name and venue name</td>\n",
       "    </tr>\n",
       "    <tr>\n",
       "      <th id=\"T_f26b5_level0_row19\" class=\"row_heading level0 row19\" >19</th>\n",
       "      <td id=\"T_f26b5_row19_col0\" class=\"data row19 col0\" ><a href=\"https://www.tagvenue.com/rooms/london/12315/hello-darling/whole-building\">https://www.tagvenue.com/rooms/london/12315/hello-darling/whole-building</a></td>\n",
       "      <td id=\"T_f26b5_row19_col1\" class=\"data row19 col1\" >venue no longer hosted</td>\n",
       "    </tr>\n",
       "    <tr>\n",
       "      <th id=\"T_f26b5_level0_row20\" class=\"row_heading level0 row20\" >20</th>\n",
       "      <td id=\"T_f26b5_row20_col0\" class=\"data row20 col0\" ><a href=\"https://www.tagvenue.com/rooms/london/1179/headspace-farringdon/event-space-at-headspace\">https://www.tagvenue.com/rooms/london/1179/headspace-farringdon/event-space-at-headspace</a></td>\n",
       "      <td id=\"T_f26b5_row20_col1\" class=\"data row20 col1\" >event space at headspace! at headspace farringdon> error identifying space name and venue name</td>\n",
       "    </tr>\n",
       "    <tr>\n",
       "      <th id=\"T_f26b5_level0_row21\" class=\"row_heading level0 row21\" >21</th>\n",
       "      <td id=\"T_f26b5_row21_col0\" class=\"data row21 col0\" ><a href=\"https://www.tagvenue.com/rooms/teddington/12768/the-lensbury/dunbar-room\">https://www.tagvenue.com/rooms/teddington/12768/the-lensbury/dunbar-room</a></td>\n",
       "      <td id=\"T_f26b5_row21_col1\" class=\"data row21 col1\" >venue no longer hosted</td>\n",
       "    </tr>\n",
       "    <tr>\n",
       "      <th id=\"T_f26b5_level0_row22\" class=\"row_heading level0 row22\" >22</th>\n",
       "      <td id=\"T_f26b5_row22_col0\" class=\"data row22 col0\" ><a href=\"https://www.tagvenue.com/rooms/london/11913/be-at-one-monument/basement-bar\">https://www.tagvenue.com/rooms/london/11913/be-at-one-monument/basement-bar</a></td>\n",
       "      <td id=\"T_f26b5_row22_col1\" class=\"data row22 col1\" >basement bar  at be at one monument> error identifying space name and venue name</td>\n",
       "    </tr>\n",
       "    <tr>\n",
       "      <th id=\"T_f26b5_level0_row23\" class=\"row_heading level0 row23\" >23</th>\n",
       "      <td id=\"T_f26b5_row23_col0\" class=\"data row23 col0\" ><a href=\"https://www.tagvenue.com/rooms/london/13959/hello-darling/dining-room\">https://www.tagvenue.com/rooms/london/13959/hello-darling/dining-room</a></td>\n",
       "      <td id=\"T_f26b5_row23_col1\" class=\"data row23 col1\" >venue no longer hosted</td>\n",
       "    </tr>\n",
       "    <tr>\n",
       "      <th id=\"T_f26b5_level0_row24\" class=\"row_heading level0 row24\" >24</th>\n",
       "      <td id=\"T_f26b5_row24_col0\" class=\"data row24 col0\" ><a href=\"https://www.tagvenue.com/rooms/london/3242/alberts-at-beaufort-house/unique-baby-shower\">https://www.tagvenue.com/rooms/london/3242/alberts-at-beaufort-house/unique-baby-shower</a></td>\n",
       "      <td id=\"T_f26b5_row24_col1\" class=\"data row24 col1\" >unique baby shower at albert's at beaufort house> error identifying space name and venue name</td>\n",
       "    </tr>\n",
       "    <tr>\n",
       "      <th id=\"T_f26b5_level0_row25\" class=\"row_heading level0 row25\" >25</th>\n",
       "      <td id=\"T_f26b5_row25_col0\" class=\"data row25 col0\" ><a href=\"https://www.tagvenue.com/rooms/london/7822/be-at-one-liverpool-street/the-hideaway\">https://www.tagvenue.com/rooms/london/7822/be-at-one-liverpool-street/the-hideaway</a></td>\n",
       "      <td id=\"T_f26b5_row25_col1\" class=\"data row25 col1\" >the hideaway at be at one liverpool street> error identifying space name and venue name</td>\n",
       "    </tr>\n",
       "    <tr>\n",
       "      <th id=\"T_f26b5_level0_row26\" class=\"row_heading level0 row26\" >26</th>\n",
       "      <td id=\"T_f26b5_row26_col0\" class=\"data row26 col0\" ><a href=\"https://www.tagvenue.com/rooms/london/3830/the-montague-on-the-gardens/weddings-at-the-montague\">https://www.tagvenue.com/rooms/london/3830/the-montague-on-the-gardens/weddings-at-the-montague</a></td>\n",
       "      <td id=\"T_f26b5_row26_col1\" class=\"data row26 col1\" >weddings at the montague  at the montague on the gardens> error identifying space name and venue name</td>\n",
       "    </tr>\n",
       "    <tr>\n",
       "      <th id=\"T_f26b5_level0_row27\" class=\"row_heading level0 row27\" >27</th>\n",
       "      <td id=\"T_f26b5_row27_col0\" class=\"data row27 col0\" ><a href=\"https://www.tagvenue.com/rooms/london/1177/headspace-farringdon/gotham-at-headspace\">https://www.tagvenue.com/rooms/london/1177/headspace-farringdon/gotham-at-headspace</a></td>\n",
       "      <td id=\"T_f26b5_row27_col1\" class=\"data row27 col1\" >gotham at headspace! at headspace farringdon> error identifying space name and venue name</td>\n",
       "    </tr>\n",
       "    <tr>\n",
       "      <th id=\"T_f26b5_level0_row28\" class=\"row_heading level0 row28\" >28</th>\n",
       "      <td id=\"T_f26b5_row28_col0\" class=\"data row28 col0\" ><a href=\"https://www.tagvenue.com/rooms/london/27270/refettorio-felix-at-st-cuthberts/wedding-reception-party-hall\">https://www.tagvenue.com/rooms/london/27270/refettorio-felix-at-st-cuthberts/wedding-reception-party-hall</a></td>\n",
       "      <td id=\"T_f26b5_row28_col1\" class=\"data row28 col1\" >wedding reception & party hall at refettorio felix at st cuthbert's> error identifying space name and venue name</td>\n",
       "    </tr>\n",
       "    <tr>\n",
       "      <th id=\"T_f26b5_level0_row29\" class=\"row_heading level0 row29\" >29</th>\n",
       "      <td id=\"T_f26b5_row29_col0\" class=\"data row29 col0\" ><a href=\"https://www.tagvenue.com/rooms/london/3134/alberts-at-beaufort-house/baby-toddler-party\">https://www.tagvenue.com/rooms/london/3134/alberts-at-beaufort-house/baby-toddler-party</a></td>\n",
       "      <td id=\"T_f26b5_row29_col1\" class=\"data row29 col1\" >baby & toddler party at albert's at beaufort house> error identifying space name and venue name</td>\n",
       "    </tr>\n",
       "    <tr>\n",
       "      <th id=\"T_f26b5_level0_row30\" class=\"row_heading level0 row30\" >30</th>\n",
       "      <td id=\"T_f26b5_row30_col0\" class=\"data row30 col0\" ><a href=\"https://www.tagvenue.com/rooms/london/3331/alberts-at-beaufort-house/16th-birthday-party\">https://www.tagvenue.com/rooms/london/3331/alberts-at-beaufort-house/16th-birthday-party</a></td>\n",
       "      <td id=\"T_f26b5_row30_col1\" class=\"data row30 col1\" >16th birthday party at albert's at beaufort house> error identifying space name and venue name</td>\n",
       "    </tr>\n",
       "    <tr>\n",
       "      <th id=\"T_f26b5_level0_row31\" class=\"row_heading level0 row31\" >31</th>\n",
       "      <td id=\"T_f26b5_row31_col0\" class=\"data row31 col0\" ><a href=\"https://www.tagvenue.com/rooms/london/662/indigo-at-the-o2/indigo-at-the-o2-balcony\">https://www.tagvenue.com/rooms/london/662/indigo-at-the-o2/indigo-at-the-o2-balcony</a></td>\n",
       "      <td id=\"T_f26b5_row31_col1\" class=\"data row31 col1\" >indigo at the o2 balcony at indigo at the o2> error identifying space name and venue name</td>\n",
       "    </tr>\n",
       "    <tr>\n",
       "      <th id=\"T_f26b5_level0_row32\" class=\"row_heading level0 row32\" >32</th>\n",
       "      <td id=\"T_f26b5_row32_col0\" class=\"data row32 col0\" ><a href=\"https://www.tagvenue.com/rooms/london/24667/the-residence-at-holmes-hotel-london/the-pantry\">https://www.tagvenue.com/rooms/london/24667/the-residence-at-holmes-hotel-london/the-pantry</a></td>\n",
       "      <td id=\"T_f26b5_row32_col1\" class=\"data row32 col1\" >the pantry at the residence at holmes hotel london> error identifying space name and venue name</td>\n",
       "    </tr>\n",
       "    <tr>\n",
       "      <th id=\"T_f26b5_level0_row33\" class=\"row_heading level0 row33\" >33</th>\n",
       "      <td id=\"T_f26b5_row33_col0\" class=\"data row33 col0\" ><a href=\"https://www.tagvenue.com/rooms/london/7815/be-at-one-liverpool-street/the-loft\">https://www.tagvenue.com/rooms/london/7815/be-at-one-liverpool-street/the-loft</a></td>\n",
       "      <td id=\"T_f26b5_row33_col1\" class=\"data row33 col1\" >the loft  at be at one liverpool street> error identifying space name and venue name</td>\n",
       "    </tr>\n",
       "    <tr>\n",
       "      <th id=\"T_f26b5_level0_row34\" class=\"row_heading level0 row34\" >34</th>\n",
       "      <td id=\"T_f26b5_row34_col0\" class=\"data row34 col0\" ><a href=\"https://www.tagvenue.com/rooms/london/1176/headspace-farringdon/metropolis-at-headspace\">https://www.tagvenue.com/rooms/london/1176/headspace-farringdon/metropolis-at-headspace</a></td>\n",
       "      <td id=\"T_f26b5_row34_col1\" class=\"data row34 col1\" >metropolis at headspace! at headspace farringdon> error identifying space name and venue name</td>\n",
       "    </tr>\n",
       "    <tr>\n",
       "      <th id=\"T_f26b5_level0_row35\" class=\"row_heading level0 row35\" >35</th>\n",
       "      <td id=\"T_f26b5_row35_col0\" class=\"data row35 col0\" ><a href=\"https://www.tagvenue.com/rooms/london/2252/cookery-school-at-little-portland-st/large-kitchen\">https://www.tagvenue.com/rooms/london/2252/cookery-school-at-little-portland-st/large-kitchen</a></td>\n",
       "      <td id=\"T_f26b5_row35_col1\" class=\"data row35 col1\" >large kitchen at cookery school at little portland st> error identifying space name and venue name</td>\n",
       "    </tr>\n",
       "    <tr>\n",
       "      <th id=\"T_f26b5_level0_row36\" class=\"row_heading level0 row36\" >36</th>\n",
       "      <td id=\"T_f26b5_row36_col0\" class=\"data row36 col0\" ><a href=\"https://www.tagvenue.com/rooms/london/3133/alberts-at-beaufort-house/childrens-birthday-party\">https://www.tagvenue.com/rooms/london/3133/alberts-at-beaufort-house/childrens-birthday-party</a></td>\n",
       "      <td id=\"T_f26b5_row36_col1\" class=\"data row36 col1\" >children's birthday party at albert's at beaufort house> error identifying space name and venue name</td>\n",
       "    </tr>\n",
       "    <tr>\n",
       "      <th id=\"T_f26b5_level0_row37\" class=\"row_heading level0 row37\" >37</th>\n",
       "      <td id=\"T_f26b5_row37_col0\" class=\"data row37 col0\" ><a href=\"https://www.tagvenue.com/rooms/london/13007/alberts-at-beaufort-house/afternoon-tea\">https://www.tagvenue.com/rooms/london/13007/alberts-at-beaufort-house/afternoon-tea</a></td>\n",
       "      <td id=\"T_f26b5_row37_col1\" class=\"data row37 col1\" >afternoon tea at albert's at beaufort house> error identifying space name and venue name</td>\n",
       "    </tr>\n",
       "    <tr>\n",
       "      <th id=\"T_f26b5_level0_row38\" class=\"row_heading level0 row38\" >38</th>\n",
       "      <td id=\"T_f26b5_row38_col0\" class=\"data row38 col0\" ><a href=\"https://www.tagvenue.com/rooms/london/27822/be-at-one-farringdon/club\">https://www.tagvenue.com/rooms/london/27822/be-at-one-farringdon/club</a></td>\n",
       "      <td id=\"T_f26b5_row38_col1\" class=\"data row38 col1\" >club  at be at one farringdon> error identifying space name and venue name</td>\n",
       "    </tr>\n",
       "    <tr>\n",
       "      <th id=\"T_f26b5_level0_row39\" class=\"row_heading level0 row39\" >39</th>\n",
       "      <td id=\"T_f26b5_row39_col0\" class=\"data row39 col0\" ><a href=\"https://www.tagvenue.com/rooms/london/4105/alberts-at-beaufort-house/christmas-in-chelsea\">https://www.tagvenue.com/rooms/london/4105/alberts-at-beaufort-house/christmas-in-chelsea</a></td>\n",
       "      <td id=\"T_f26b5_row39_col1\" class=\"data row39 col1\" >christmas in chelsea at albert's at beaufort house> error identifying space name and venue name</td>\n",
       "    </tr>\n",
       "    <tr>\n",
       "      <th id=\"T_f26b5_level0_row40\" class=\"row_heading level0 row40\" >40</th>\n",
       "      <td id=\"T_f26b5_row40_col0\" class=\"data row40 col0\" ><a href=\"https://www.tagvenue.com/rooms/london/7831/be-at-one-shoe-lane/cocktail-bar\">https://www.tagvenue.com/rooms/london/7831/be-at-one-shoe-lane/cocktail-bar</a></td>\n",
       "      <td id=\"T_f26b5_row40_col1\" class=\"data row40 col1\" >cocktail bar at be at one shoe lane> error identifying space name and venue name</td>\n",
       "    </tr>\n",
       "    <tr>\n",
       "      <th id=\"T_f26b5_level0_row41\" class=\"row_heading level0 row41\" >41</th>\n",
       "      <td id=\"T_f26b5_row41_col0\" class=\"data row41 col0\" ><a href=\"https://www.tagvenue.com/rooms/london/24663/the-residence-at-holmes-hotel-london/the-billiards-room\">https://www.tagvenue.com/rooms/london/24663/the-residence-at-holmes-hotel-london/the-billiards-room</a></td>\n",
       "      <td id=\"T_f26b5_row41_col1\" class=\"data row41 col1\" >the billiards room at the residence at holmes hotel london> error identifying space name and venue name</td>\n",
       "    </tr>\n",
       "    <tr>\n",
       "      <th id=\"T_f26b5_level0_row42\" class=\"row_heading level0 row42\" >42</th>\n",
       "      <td id=\"T_f26b5_row42_col0\" class=\"data row42 col0\" ><a href=\"https://www.tagvenue.com/rooms/london/4106/alberts-at-beaufort-house/cocktail-masterclass\">https://www.tagvenue.com/rooms/london/4106/alberts-at-beaufort-house/cocktail-masterclass</a></td>\n",
       "      <td id=\"T_f26b5_row42_col1\" class=\"data row42 col1\" >cocktail masterclass at albert's at beaufort house> error identifying space name and venue name</td>\n",
       "    </tr>\n",
       "    <tr>\n",
       "      <th id=\"T_f26b5_level0_row43\" class=\"row_heading level0 row43\" >43</th>\n",
       "      <td id=\"T_f26b5_row43_col0\" class=\"data row43 col0\" ><a href=\"https://www.tagvenue.com/rooms/london/1839/davys-at-plantation-place/alcove\">https://www.tagvenue.com/rooms/london/1839/davys-at-plantation-place/alcove</a></td>\n",
       "      <td id=\"T_f26b5_row43_col1\" class=\"data row43 col1\" >alcove at davy's at plantation place> error identifying space name and venue name</td>\n",
       "    </tr>\n",
       "    <tr>\n",
       "      <th id=\"T_f26b5_level0_row44\" class=\"row_heading level0 row44\" >44</th>\n",
       "      <td id=\"T_f26b5_row44_col0\" class=\"data row44 col0\" ><a href=\"https://www.tagvenue.com/rooms/london/31/alberts-at-beaufort-house/alberts-champagne-bar\">https://www.tagvenue.com/rooms/london/31/alberts-at-beaufort-house/alberts-champagne-bar</a></td>\n",
       "      <td id=\"T_f26b5_row44_col1\" class=\"data row44 col1\" >albert's champagne bar at albert's at beaufort house> error identifying space name and venue name</td>\n",
       "    </tr>\n",
       "    <tr>\n",
       "      <th id=\"T_f26b5_level0_row45\" class=\"row_heading level0 row45\" >45</th>\n",
       "      <td id=\"T_f26b5_row45_col0\" class=\"data row45 col0\" ><a href=\"https://www.tagvenue.com/rooms/london/2253/cookery-school-at-little-portland-st/small-kitchen\">https://www.tagvenue.com/rooms/london/2253/cookery-school-at-little-portland-st/small-kitchen</a></td>\n",
       "      <td id=\"T_f26b5_row45_col1\" class=\"data row45 col1\" >small kitchen at cookery school at little portland st> error identifying space name and venue name</td>\n",
       "    </tr>\n",
       "    <tr>\n",
       "      <th id=\"T_f26b5_level0_row46\" class=\"row_heading level0 row46\" >46</th>\n",
       "      <td id=\"T_f26b5_row46_col0\" class=\"data row46 col0\" ><a href=\"https://www.tagvenue.com/rooms/london/22038/the-signal/upstairs-at-the-signal\">https://www.tagvenue.com/rooms/london/22038/the-signal/upstairs-at-the-signal</a></td>\n",
       "      <td id=\"T_f26b5_row46_col1\" class=\"data row46 col1\" >upstairs at the signal at the signal> error identifying space name and venue name</td>\n",
       "    </tr>\n",
       "    <tr>\n",
       "      <th id=\"T_f26b5_level0_row47\" class=\"row_heading level0 row47\" >47</th>\n",
       "      <td id=\"T_f26b5_row47_col0\" class=\"data row47 col0\" ><a href=\"https://www.tagvenue.com/rooms/london/24665/the-residence-at-holmes-hotel-london/the-laboratory\">https://www.tagvenue.com/rooms/london/24665/the-residence-at-holmes-hotel-london/the-laboratory</a></td>\n",
       "      <td id=\"T_f26b5_row47_col1\" class=\"data row47 col1\" >the laboratory at the residence at holmes hotel london> error identifying space name and venue name</td>\n",
       "    </tr>\n",
       "    <tr>\n",
       "      <th id=\"T_f26b5_level0_row48\" class=\"row_heading level0 row48\" >48</th>\n",
       "      <td id=\"T_f26b5_row48_col0\" class=\"data row48 col0\" ><a href=\"https://www.tagvenue.com/rooms/london/21005/coach-house-at-the-dog-fox/back-room\">https://www.tagvenue.com/rooms/london/21005/coach-house-at-the-dog-fox/back-room</a></td>\n",
       "      <td id=\"T_f26b5_row48_col1\" class=\"data row48 col1\" >back room at coach house at the dog & fox> error identifying space name and venue name</td>\n",
       "    </tr>\n",
       "    <tr>\n",
       "      <th id=\"T_f26b5_level0_row49\" class=\"row_heading level0 row49\" >49</th>\n",
       "      <td id=\"T_f26b5_row49_col0\" class=\"data row49 col0\" ><a href=\"https://www.tagvenue.com/rooms/london/1838/davys-at-plantation-place/dining-area\">https://www.tagvenue.com/rooms/london/1838/davys-at-plantation-place/dining-area</a></td>\n",
       "      <td id=\"T_f26b5_row49_col1\" class=\"data row49 col1\" >dining area at davy's at plantation place> error identifying space name and venue name</td>\n",
       "    </tr>\n",
       "    <tr>\n",
       "      <th id=\"T_f26b5_level0_row50\" class=\"row_heading level0 row50\" >50</th>\n",
       "      <td id=\"T_f26b5_row50_col0\" class=\"data row50 col0\" ><a href=\"https://www.tagvenue.com/rooms/london/2254/cookery-school-at-little-portland-st/meeting-room\">https://www.tagvenue.com/rooms/london/2254/cookery-school-at-little-portland-st/meeting-room</a></td>\n",
       "      <td id=\"T_f26b5_row50_col1\" class=\"data row50 col1\" >meeting room at cookery school at little portland st> error identifying space name and venue name</td>\n",
       "    </tr>\n",
       "    <tr>\n",
       "      <th id=\"T_f26b5_level0_row51\" class=\"row_heading level0 row51\" >51</th>\n",
       "      <td id=\"T_f26b5_row51_col0\" class=\"data row51 col0\" ><a href=\"https://www.tagvenue.com/rooms/london/30/alberts-at-beaufort-house/alberts-private-dining-room\">https://www.tagvenue.com/rooms/london/30/alberts-at-beaufort-house/alberts-private-dining-room</a></td>\n",
       "      <td id=\"T_f26b5_row51_col1\" class=\"data row51 col1\" >albert's private dining room at albert's at beaufort house> error identifying space name and venue name</td>\n",
       "    </tr>\n",
       "    <tr>\n",
       "      <th id=\"T_f26b5_level0_row52\" class=\"row_heading level0 row52\" >52</th>\n",
       "      <td id=\"T_f26b5_row52_col0\" class=\"data row52 col0\" ><a href=\"https://www.tagvenue.com/rooms/london/6766/the-old-street-gallery/function-room-at-the-venue\">https://www.tagvenue.com/rooms/london/6766/the-old-street-gallery/function-room-at-the-venue</a></td>\n",
       "      <td id=\"T_f26b5_row52_col1\" class=\"data row52 col1\" >function room at the venue at the old street gallery> error identifying space name and venue name</td>\n",
       "    </tr>\n",
       "    <tr>\n",
       "      <th id=\"T_f26b5_level0_row53\" class=\"row_heading level0 row53\" >53</th>\n",
       "      <td id=\"T_f26b5_row53_col0\" class=\"data row53 col0\" ><a href=\"https://www.tagvenue.com/rooms/london/1178/headspace-farringdon/hill-valley-at-headspace\">https://www.tagvenue.com/rooms/london/1178/headspace-farringdon/hill-valley-at-headspace</a></td>\n",
       "      <td id=\"T_f26b5_row53_col1\" class=\"data row53 col1\" >hill valley at headspace! at headspace farringdon> error identifying space name and venue name</td>\n",
       "    </tr>\n",
       "    <tr>\n",
       "      <th id=\"T_f26b5_level0_row54\" class=\"row_heading level0 row54\" >54</th>\n",
       "      <td id=\"T_f26b5_row54_col0\" class=\"data row54 col0\" ><a href=\"https://www.tagvenue.com/rooms/london/14231/the-regent/the-basement-at-the-regent\">https://www.tagvenue.com/rooms/london/14231/the-regent/the-basement-at-the-regent</a></td>\n",
       "      <td id=\"T_f26b5_row54_col1\" class=\"data row54 col1\" >the basement at the regent at the regent> error identifying space name and venue name</td>\n",
       "    </tr>\n",
       "    <tr>\n",
       "      <th id=\"T_f26b5_level0_row55\" class=\"row_heading level0 row55\" >55</th>\n",
       "      <td id=\"T_f26b5_row55_col0\" class=\"data row55 col0\" ><a href=\"https://www.tagvenue.com/rooms/london/24931/the-residence-at-holmes-hotel-london/exclusive-use\">https://www.tagvenue.com/rooms/london/24931/the-residence-at-holmes-hotel-london/exclusive-use</a></td>\n",
       "      <td id=\"T_f26b5_row55_col1\" class=\"data row55 col1\" >exclusive use at the residence at holmes hotel london> error identifying space name and venue name</td>\n",
       "    </tr>\n",
       "    <tr>\n",
       "      <th id=\"T_f26b5_level0_row56\" class=\"row_heading level0 row56\" >56</th>\n",
       "      <td id=\"T_f26b5_row56_col0\" class=\"data row56 col0\" ><a href=\"https://www.tagvenue.com/rooms/london/15790/manor-arms/semi-private-at-the-pub\">https://www.tagvenue.com/rooms/london/15790/manor-arms/semi-private-at-the-pub</a></td>\n",
       "      <td id=\"T_f26b5_row56_col1\" class=\"data row56 col1\" >semi private at the pub at manor arms> error identifying space name and venue name</td>\n",
       "    </tr>\n",
       "    <tr>\n",
       "      <th id=\"T_f26b5_level0_row57\" class=\"row_heading level0 row57\" >57</th>\n",
       "      <td id=\"T_f26b5_row57_col0\" class=\"data row57 col0\" ><a href=\"https://www.tagvenue.com/rooms/london/7861/be-at-one-regent-street/the-club\">https://www.tagvenue.com/rooms/london/7861/be-at-one-regent-street/the-club</a></td>\n",
       "      <td id=\"T_f26b5_row57_col1\" class=\"data row57 col1\" >the club  at be at one regent street> error identifying space name and venue name</td>\n",
       "    </tr>\n",
       "    <tr>\n",
       "      <th id=\"T_f26b5_level0_row58\" class=\"row_heading level0 row58\" >58</th>\n",
       "      <td id=\"T_f26b5_row58_col0\" class=\"data row58 col0\" ><a href=\"https://www.tagvenue.com/rooms/london/22045/the-grafton/upstairs-at-the-grafton\">https://www.tagvenue.com/rooms/london/22045/the-grafton/upstairs-at-the-grafton</a></td>\n",
       "      <td id=\"T_f26b5_row58_col1\" class=\"data row58 col1\" >upstairs at the grafton at the grafton> error identifying space name and venue name</td>\n",
       "    </tr>\n",
       "    <tr>\n",
       "      <th id=\"T_f26b5_level0_row59\" class=\"row_heading level0 row59\" >59</th>\n",
       "      <td id=\"T_f26b5_row59_col0\" class=\"data row59 col0\" ><a href=\"https://www.tagvenue.com/rooms/london/29/alberts-at-beaufort-house/alberts-club-room\">https://www.tagvenue.com/rooms/london/29/alberts-at-beaufort-house/alberts-club-room</a></td>\n",
       "      <td id=\"T_f26b5_row59_col1\" class=\"data row59 col1\" >albert's club room at albert's at beaufort house> error identifying space name and venue name</td>\n",
       "    </tr>\n",
       "    <tr>\n",
       "      <th id=\"T_f26b5_level0_row60\" class=\"row_heading level0 row60\" >60</th>\n",
       "      <td id=\"T_f26b5_row60_col0\" class=\"data row60 col0\" ><a href=\"https://www.tagvenue.com/rooms/london/6406/hush-mayfair/aviator-at-hush\">https://www.tagvenue.com/rooms/london/6406/hush-mayfair/aviator-at-hush</a></td>\n",
       "      <td id=\"T_f26b5_row60_col1\" class=\"data row60 col1\" >aviator at hush at hush mayfair> error identifying space name and venue name</td>\n",
       "    </tr>\n",
       "    <tr>\n",
       "      <th id=\"T_f26b5_level0_row61\" class=\"row_heading level0 row61\" >61</th>\n",
       "      <td id=\"T_f26b5_row61_col0\" class=\"data row61 col0\" ><a href=\"https://www.tagvenue.com/rooms/london/1841/davys-at-plantation-place/boardroom\">https://www.tagvenue.com/rooms/london/1841/davys-at-plantation-place/boardroom</a></td>\n",
       "      <td id=\"T_f26b5_row61_col1\" class=\"data row61 col1\" >boardroom at davy's at plantation place> error identifying space name and venue name</td>\n",
       "    </tr>\n",
       "    <tr>\n",
       "      <th id=\"T_f26b5_level0_row62\" class=\"row_heading level0 row62\" >62</th>\n",
       "      <td id=\"T_f26b5_row62_col0\" class=\"data row62 col0\" ><a href=\"https://www.tagvenue.com/rooms/london/15630/madame-tussauds/movies-at-madame-tussauds\">https://www.tagvenue.com/rooms/london/15630/madame-tussauds/movies-at-madame-tussauds</a></td>\n",
       "      <td id=\"T_f26b5_row62_col1\" class=\"data row62 col1\" >movies at madame tussauds at madame tussauds> error identifying space name and venue name</td>\n",
       "    </tr>\n",
       "    <tr>\n",
       "      <th id=\"T_f26b5_level0_row63\" class=\"row_heading level0 row63\" >63</th>\n",
       "      <td id=\"T_f26b5_row63_col0\" class=\"data row63 col0\" ><a href=\"https://www.tagvenue.com/rooms/london/27453/refettorio-felix-at-st-cuthberts/conference-meeting-hall\">https://www.tagvenue.com/rooms/london/27453/refettorio-felix-at-st-cuthberts/conference-meeting-hall</a></td>\n",
       "      <td id=\"T_f26b5_row63_col1\" class=\"data row63 col1\" >conference & meeting hall at refettorio felix at st cuthbert's> error identifying space name and venue name</td>\n",
       "    </tr>\n",
       "    <tr>\n",
       "      <th id=\"T_f26b5_level0_row64\" class=\"row_heading level0 row64\" >64</th>\n",
       "      <td id=\"T_f26b5_row64_col0\" class=\"data row64 col0\" ><a href=\"https://www.tagvenue.com/rooms/london/1842/davys-at-plantation-place/private-room\">https://www.tagvenue.com/rooms/london/1842/davys-at-plantation-place/private-room</a></td>\n",
       "      <td id=\"T_f26b5_row64_col1\" class=\"data row64 col1\" >private room at davy's at plantation place> error identifying space name and venue name</td>\n",
       "    </tr>\n",
       "    <tr>\n",
       "      <th id=\"T_f26b5_level0_row65\" class=\"row_heading level0 row65\" >65</th>\n",
       "      <td id=\"T_f26b5_row65_col0\" class=\"data row65 col0\" ><a href=\"https://www.tagvenue.com/rooms/london/1173/headspace-farringdon/springfield-at-headspace\">https://www.tagvenue.com/rooms/london/1173/headspace-farringdon/springfield-at-headspace</a></td>\n",
       "      <td id=\"T_f26b5_row65_col1\" class=\"data row65 col1\" >springfield at headspace! at headspace farringdon> error identifying space name and venue name</td>\n",
       "    </tr>\n",
       "    <tr>\n",
       "      <th id=\"T_f26b5_level0_row66\" class=\"row_heading level0 row66\" >66</th>\n",
       "      <td id=\"T_f26b5_row66_col0\" class=\"data row66 col0\" ><a href=\"https://www.tagvenue.com/rooms/london/24664/the-residence-at-holmes-hotel-london/the-cellar\">https://www.tagvenue.com/rooms/london/24664/the-residence-at-holmes-hotel-london/the-cellar</a></td>\n",
       "      <td id=\"T_f26b5_row66_col1\" class=\"data row66 col1\" >the cellar at the residence at holmes hotel london> error identifying space name and venue name</td>\n",
       "    </tr>\n",
       "    <tr>\n",
       "      <th id=\"T_f26b5_level0_row67\" class=\"row_heading level0 row67\" >67</th>\n",
       "      <td id=\"T_f26b5_row67_col0\" class=\"data row67 col0\" ><a href=\"https://www.tagvenue.com/rooms/london/25581/shaman-at-locke-bermondsey/courtyard-co-working\">https://www.tagvenue.com/rooms/london/25581/shaman-at-locke-bermondsey/courtyard-co-working</a></td>\n",
       "      <td id=\"T_f26b5_row67_col1\" class=\"data row67 col1\" >courtyard - co-working  at shaman at locke bermondsey> error identifying space name and venue name</td>\n",
       "    </tr>\n",
       "    <tr>\n",
       "      <th id=\"T_f26b5_level0_row68\" class=\"row_heading level0 row68\" >68</th>\n",
       "      <td id=\"T_f26b5_row68_col0\" class=\"data row68 col0\" ><a href=\"https://www.tagvenue.com/rooms/london/6045/searcys-at-the-gherkin/double-private-dining-room\">https://www.tagvenue.com/rooms/london/6045/searcys-at-the-gherkin/double-private-dining-room</a></td>\n",
       "      <td id=\"T_f26b5_row68_col1\" class=\"data row68 col1\" >double private dining room at searcys at the gherkin> error identifying space name and venue name</td>\n",
       "    </tr>\n",
       "    <tr>\n",
       "      <th id=\"T_f26b5_level0_row69\" class=\"row_heading level0 row69\" >69</th>\n",
       "      <td id=\"T_f26b5_row69_col0\" class=\"data row69 col0\" ><a href=\"https://www.tagvenue.com/rooms/london/13765/mamuska-polish-kitchen-and-bar/the-platform-at-mamuska\">https://www.tagvenue.com/rooms/london/13765/mamuska-polish-kitchen-and-bar/the-platform-at-mamuska</a></td>\n",
       "      <td id=\"T_f26b5_row69_col1\" class=\"data row69 col1\" >the platform at mamuśka! at mamuśka! polish kitchen and bar> error identifying space name and venue name</td>\n",
       "    </tr>\n",
       "    <tr>\n",
       "      <th id=\"T_f26b5_level0_row70\" class=\"row_heading level0 row70\" >70</th>\n",
       "      <td id=\"T_f26b5_row70_col0\" class=\"data row70 col0\" ><a href=\"https://www.tagvenue.com/rooms/london/7077/jamies-st-mary-at-hill/the-dining-room\">https://www.tagvenue.com/rooms/london/7077/jamies-st-mary-at-hill/the-dining-room</a></td>\n",
       "      <td id=\"T_f26b5_row70_col1\" class=\"data row70 col1\" >the dining room at jamies st mary at hill> error identifying space name and venue name</td>\n",
       "    </tr>\n",
       "    <tr>\n",
       "      <th id=\"T_f26b5_level0_row71\" class=\"row_heading level0 row71\" >71</th>\n",
       "      <td id=\"T_f26b5_row71_col0\" class=\"data row71 col0\" ><a href=\"https://www.tagvenue.com/rooms/london/7371/here-east/the-theatre\">https://www.tagvenue.com/rooms/london/7371/here-east/the-theatre</a></td>\n",
       "      <td id=\"T_f26b5_row71_col1\" class=\"data row71 col1\" >venue no longer hosted</td>\n",
       "    </tr>\n",
       "    <tr>\n",
       "      <th id=\"T_f26b5_level0_row72\" class=\"row_heading level0 row72\" >72</th>\n",
       "      <td id=\"T_f26b5_row72_col0\" class=\"data row72 col0\" ><a href=\"https://www.tagvenue.com/rooms/london/24666/the-residence-at-holmes-hotel-london/the-roof-terrace\">https://www.tagvenue.com/rooms/london/24666/the-residence-at-holmes-hotel-london/the-roof-terrace</a></td>\n",
       "      <td id=\"T_f26b5_row72_col1\" class=\"data row72 col1\" >the roof terrace    at the residence at holmes hotel london> error identifying space name and venue name</td>\n",
       "    </tr>\n",
       "    <tr>\n",
       "      <th id=\"T_f26b5_level0_row73\" class=\"row_heading level0 row73\" >73</th>\n",
       "      <td id=\"T_f26b5_row73_col0\" class=\"data row73 col0\" ><a href=\"https://www.tagvenue.com/rooms/london/6225/cabana-at-wembley/the-rio-restaurant-at-wembley\">https://www.tagvenue.com/rooms/london/6225/cabana-at-wembley/the-rio-restaurant-at-wembley</a></td>\n",
       "      <td id=\"T_f26b5_row73_col1\" class=\"data row73 col1\" >venue no longer hosted</td>\n",
       "    </tr>\n",
       "    <tr>\n",
       "      <th id=\"T_f26b5_level0_row74\" class=\"row_heading level0 row74\" >74</th>\n",
       "      <td id=\"T_f26b5_row74_col0\" class=\"data row74 col0\" ><a href=\"https://www.tagvenue.com/rooms/london/1180/headspace-farringdon/grayskull-at-headspace\">https://www.tagvenue.com/rooms/london/1180/headspace-farringdon/grayskull-at-headspace</a></td>\n",
       "      <td id=\"T_f26b5_row74_col1\" class=\"data row74 col1\" >grayskull at headspace! at headspace farringdon> error identifying space name and venue name</td>\n",
       "    </tr>\n",
       "    <tr>\n",
       "      <th id=\"T_f26b5_level0_row75\" class=\"row_heading level0 row75\" >75</th>\n",
       "      <td id=\"T_f26b5_row75_col0\" class=\"data row75 col0\" ><a href=\"https://www.tagvenue.com/rooms/london/653/searcys-at-the-gherkin/single-private-dining-rooms\">https://www.tagvenue.com/rooms/london/653/searcys-at-the-gherkin/single-private-dining-rooms</a></td>\n",
       "      <td id=\"T_f26b5_row75_col1\" class=\"data row75 col1\" >single private dining rooms at searcys at the gherkin> error identifying space name and venue name</td>\n",
       "    </tr>\n",
       "    <tr>\n",
       "      <th id=\"T_f26b5_level0_row76\" class=\"row_heading level0 row76\" >76</th>\n",
       "      <td id=\"T_f26b5_row76_col0\" class=\"data row76 col0\" ><a href=\"https://www.tagvenue.com/rooms/london/7820/be-at-one-shoe-lane/whole-venue\">https://www.tagvenue.com/rooms/london/7820/be-at-one-shoe-lane/whole-venue</a></td>\n",
       "      <td id=\"T_f26b5_row76_col1\" class=\"data row76 col1\" >whole venue at be at one shoe lane> error identifying space name and venue name</td>\n",
       "    </tr>\n",
       "    <tr>\n",
       "      <th id=\"T_f26b5_level0_row77\" class=\"row_heading level0 row77\" >77</th>\n",
       "      <td id=\"T_f26b5_row77_col0\" class=\"data row77 col0\" ><a href=\"https://www.tagvenue.com/rooms/london/26243/adam-house-event-space/cambric-suite\">https://www.tagvenue.com/rooms/london/26243/adam-house-event-space/cambric-suite</a></td>\n",
       "      <td id=\"T_f26b5_row77_col1\" class=\"data row77 col1\" >venue no longer hosted</td>\n",
       "    </tr>\n",
       "    <tr>\n",
       "      <th id=\"T_f26b5_level0_row78\" class=\"row_heading level0 row78\" >78</th>\n",
       "      <td id=\"T_f26b5_row78_col0\" class=\"data row78 col0\" ><a href=\"https://www.tagvenue.com/rooms/london/12713/hello-darling/darling-house\">https://www.tagvenue.com/rooms/london/12713/hello-darling/darling-house</a></td>\n",
       "      <td id=\"T_f26b5_row78_col1\" class=\"data row78 col1\" >venue no longer hosted</td>\n",
       "    </tr>\n",
       "    <tr>\n",
       "      <th id=\"T_f26b5_level0_row79\" class=\"row_heading level0 row79\" >79</th>\n",
       "      <td id=\"T_f26b5_row79_col0\" class=\"data row79 col0\" ><a href=\"https://www.tagvenue.com/rooms/london/12315/hello-darling/whole-building\">https://www.tagvenue.com/rooms/london/12315/hello-darling/whole-building</a></td>\n",
       "      <td id=\"T_f26b5_row79_col1\" class=\"data row79 col1\" >venue no longer hosted</td>\n",
       "    </tr>\n",
       "    <tr>\n",
       "      <th id=\"T_f26b5_level0_row80\" class=\"row_heading level0 row80\" >80</th>\n",
       "      <td id=\"T_f26b5_row80_col0\" class=\"data row80 col0\" ><a href=\"https://www.tagvenue.com/rooms/teddington/12768/the-lensbury/dunbar-room\">https://www.tagvenue.com/rooms/teddington/12768/the-lensbury/dunbar-room</a></td>\n",
       "      <td id=\"T_f26b5_row80_col1\" class=\"data row80 col1\" >venue no longer hosted</td>\n",
       "    </tr>\n",
       "    <tr>\n",
       "      <th id=\"T_f26b5_level0_row81\" class=\"row_heading level0 row81\" >81</th>\n",
       "      <td id=\"T_f26b5_row81_col0\" class=\"data row81 col0\" ><a href=\"https://www.tagvenue.com/rooms/london/13959/hello-darling/dining-room\">https://www.tagvenue.com/rooms/london/13959/hello-darling/dining-room</a></td>\n",
       "      <td id=\"T_f26b5_row81_col1\" class=\"data row81 col1\" >venue no longer hosted</td>\n",
       "    </tr>\n",
       "    <tr>\n",
       "      <th id=\"T_f26b5_level0_row82\" class=\"row_heading level0 row82\" >82</th>\n",
       "      <td id=\"T_f26b5_row82_col0\" class=\"data row82 col0\" ><a href=\"https://www.tagvenue.com/rooms/london/7371/here-east/the-theatre\">https://www.tagvenue.com/rooms/london/7371/here-east/the-theatre</a></td>\n",
       "      <td id=\"T_f26b5_row82_col1\" class=\"data row82 col1\" >venue no longer hosted</td>\n",
       "    </tr>\n",
       "    <tr>\n",
       "      <th id=\"T_f26b5_level0_row83\" class=\"row_heading level0 row83\" >83</th>\n",
       "      <td id=\"T_f26b5_row83_col0\" class=\"data row83 col0\" ><a href=\"https://www.tagvenue.com/rooms/london/6225/cabana-at-wembley/the-rio-restaurant-at-wembley\">https://www.tagvenue.com/rooms/london/6225/cabana-at-wembley/the-rio-restaurant-at-wembley</a></td>\n",
       "      <td id=\"T_f26b5_row83_col1\" class=\"data row83 col1\" >venue no longer hosted</td>\n",
       "    </tr>\n",
       "  </tbody>\n",
       "</table>\n"
      ],
      "text/plain": [
       "<pandas.io.formats.style.Styler at 0x16c094a30>"
      ]
     },
     "execution_count": 59,
     "metadata": {},
     "output_type": "execute_result"
    }
   ],
   "source": [
    "extraction_errors = pd.DataFrame(extraction_error_log, columns = ['url','error', 'html'])\n",
    "# Function to make urls clickable in jupyter\n",
    "def make_clickable(val):\n",
    "    return '<a href=\"{}\">{}</a>'.format(val,val)\n",
    "\n",
    "extraction_errors[['url','error']].style.format({'url': make_clickable})"
   ]
  },
  {
   "cell_type": "markdown",
   "id": "4c5f1e2e-6195-45d8-a849-b009d8f71e68",
   "metadata": {},
   "source": [
    "### Summarise and Save Data\n",
    "Below we convert the extracted data to a dataframe, show first 10 rows and summary statistics. We then save the data to file as a csv. "
   ]
  },
  {
   "cell_type": "code",
   "execution_count": 60,
   "id": "3b183875-12c2-467d-b288-757709a42e98",
   "metadata": {},
   "outputs": [
    {
     "data": {
      "text/html": [
       "<div>\n",
       "<style scoped>\n",
       "    .dataframe tbody tr th:only-of-type {\n",
       "        vertical-align: middle;\n",
       "    }\n",
       "\n",
       "    .dataframe tbody tr th {\n",
       "        vertical-align: top;\n",
       "    }\n",
       "\n",
       "    .dataframe thead th {\n",
       "        text-align: right;\n",
       "    }\n",
       "</style>\n",
       "<table border=\"1\" class=\"dataframe\">\n",
       "  <thead>\n",
       "    <tr style=\"text-align: right;\">\n",
       "      <th></th>\n",
       "      <th>url</th>\n",
       "      <th>venue_name</th>\n",
       "      <th>space_name</th>\n",
       "      <th>latitude</th>\n",
       "      <th>longitude</th>\n",
       "      <th>address_line</th>\n",
       "    </tr>\n",
       "  </thead>\n",
       "  <tbody>\n",
       "    <tr>\n",
       "      <th>0</th>\n",
       "      <td>https://www.tagvenue.com/rooms/london/7552/gra...</td>\n",
       "      <td>graeae theatre company</td>\n",
       "      <td>creative hub</td>\n",
       "      <td>51.532108</td>\n",
       "      <td>-0.077022</td>\n",
       "      <td>Kingsland Road, 138, London, E2 8DY</td>\n",
       "    </tr>\n",
       "    <tr>\n",
       "      <th>1</th>\n",
       "      <td>https://www.tagvenue.com/rooms/london/6679/cit...</td>\n",
       "      <td>city cruises ltd</td>\n",
       "      <td>christmas cruises</td>\n",
       "      <td>51.502160</td>\n",
       "      <td>-0.123207</td>\n",
       "      <td>Westminster Pier, Victoria Embankment, London,...</td>\n",
       "    </tr>\n",
       "    <tr>\n",
       "      <th>2</th>\n",
       "      <td>https://www.tagvenue.com/rooms/london/7134/jam...</td>\n",
       "      <td>jamies tudor street</td>\n",
       "      <td>ground floor room</td>\n",
       "      <td>51.512615</td>\n",
       "      <td>-0.108790</td>\n",
       "      <td>Tudor Street, 36, London, EC4Y 0BH</td>\n",
       "    </tr>\n",
       "    <tr>\n",
       "      <th>3</th>\n",
       "      <td>https://www.tagvenue.com/rooms/london/20299/th...</td>\n",
       "      <td>the fisheries</td>\n",
       "      <td>the boardroom</td>\n",
       "      <td>51.540489</td>\n",
       "      <td>-0.057509</td>\n",
       "      <td>Mentmore Terrace, 1, London, E8 3PN</td>\n",
       "    </tr>\n",
       "    <tr>\n",
       "      <th>4</th>\n",
       "      <td>https://www.tagvenue.com/rooms/london/6854/bre...</td>\n",
       "      <td>brewers' hall</td>\n",
       "      <td>livery hall</td>\n",
       "      <td>51.517175</td>\n",
       "      <td>-0.092663</td>\n",
       "      <td>Aldermanbury Square, London, EC2V 7HR</td>\n",
       "    </tr>\n",
       "    <tr>\n",
       "      <th>5</th>\n",
       "      <td>https://www.tagvenue.com/rooms/london/8287/1-w...</td>\n",
       "      <td>1 wimpole street</td>\n",
       "      <td>ent room</td>\n",
       "      <td>51.516531</td>\n",
       "      <td>-0.147532</td>\n",
       "      <td>Wimpole Street, 1, London, W1G 0AE</td>\n",
       "    </tr>\n",
       "    <tr>\n",
       "      <th>6</th>\n",
       "      <td>https://www.tagvenue.com/rooms/london/24727/st...</td>\n",
       "      <td>studio spaces</td>\n",
       "      <td>full venue</td>\n",
       "      <td>51.508843</td>\n",
       "      <td>-0.061467</td>\n",
       "      <td>Studio Spaces, Unit 2, 100 Pennington Street, ...</td>\n",
       "    </tr>\n",
       "    <tr>\n",
       "      <th>7</th>\n",
       "      <td>https://www.tagvenue.com/rooms/london/2451/3-p...</td>\n",
       "      <td>3 perseverance works</td>\n",
       "      <td>studio</td>\n",
       "      <td>51.527873</td>\n",
       "      <td>-0.078011</td>\n",
       "      <td>25-27 Hackney Road, London, E2 8DD</td>\n",
       "    </tr>\n",
       "    <tr>\n",
       "      <th>8</th>\n",
       "      <td>https://www.tagvenue.com/rooms/london/23541/co...</td>\n",
       "      <td>cococure</td>\n",
       "      <td>basement</td>\n",
       "      <td>51.513407</td>\n",
       "      <td>-0.075685</td>\n",
       "      <td>Minories, 5, London, EC3N 1BJ</td>\n",
       "    </tr>\n",
       "    <tr>\n",
       "      <th>9</th>\n",
       "      <td>https://www.tagvenue.com/rooms/london/1358/gra...</td>\n",
       "      <td>grand ballroom at the montcalm</td>\n",
       "      <td>grand ballroom</td>\n",
       "      <td>51.515059</td>\n",
       "      <td>-0.159386</td>\n",
       "      <td>2 Wallenberg PLace, Marble Arch, London, W1H 7TN</td>\n",
       "    </tr>\n",
       "  </tbody>\n",
       "</table>\n",
       "</div>"
      ],
      "text/plain": [
       "                                                 url  \\\n",
       "0  https://www.tagvenue.com/rooms/london/7552/gra...   \n",
       "1  https://www.tagvenue.com/rooms/london/6679/cit...   \n",
       "2  https://www.tagvenue.com/rooms/london/7134/jam...   \n",
       "3  https://www.tagvenue.com/rooms/london/20299/th...   \n",
       "4  https://www.tagvenue.com/rooms/london/6854/bre...   \n",
       "5  https://www.tagvenue.com/rooms/london/8287/1-w...   \n",
       "6  https://www.tagvenue.com/rooms/london/24727/st...   \n",
       "7  https://www.tagvenue.com/rooms/london/2451/3-p...   \n",
       "8  https://www.tagvenue.com/rooms/london/23541/co...   \n",
       "9  https://www.tagvenue.com/rooms/london/1358/gra...   \n",
       "\n",
       "                       venue_name         space_name   latitude  longitude  \\\n",
       "0          graeae theatre company      creative hub   51.532108  -0.077022   \n",
       "1                city cruises ltd  christmas cruises  51.502160  -0.123207   \n",
       "2             jamies tudor street  ground floor room  51.512615  -0.108790   \n",
       "3                   the fisheries      the boardroom  51.540489  -0.057509   \n",
       "4                   brewers' hall        livery hall  51.517175  -0.092663   \n",
       "5                1 wimpole street           ent room  51.516531  -0.147532   \n",
       "6                   studio spaces         full venue  51.508843  -0.061467   \n",
       "7            3 perseverance works             studio  51.527873  -0.078011   \n",
       "8                        cococure           basement  51.513407  -0.075685   \n",
       "9  grand ballroom at the montcalm     grand ballroom  51.515059  -0.159386   \n",
       "\n",
       "                                        address_line  \n",
       "0                Kingsland Road, 138, London, E2 8DY  \n",
       "1  Westminster Pier, Victoria Embankment, London,...  \n",
       "2                 Tudor Street, 36, London, EC4Y 0BH  \n",
       "3                Mentmore Terrace, 1, London, E8 3PN  \n",
       "4              Aldermanbury Square, London, EC2V 7HR  \n",
       "5                 Wimpole Street, 1, London, W1G 0AE  \n",
       "6  Studio Spaces, Unit 2, 100 Pennington Street, ...  \n",
       "7                 25-27 Hackney Road, London, E2 8DD  \n",
       "8                      Minories, 5, London, EC3N 1BJ  \n",
       "9   2 Wallenberg PLace, Marble Arch, London, W1H 7TN  "
      ]
     },
     "execution_count": 60,
     "metadata": {},
     "output_type": "execute_result"
    }
   ],
   "source": [
    "df = pd.DataFrame(data, columns = ['url','venue_name','space_name', 'latitude','longitude', 'address_line'])\n",
    "df.head(10)"
   ]
  },
  {
   "cell_type": "code",
   "execution_count": 61,
   "id": "fc2e673e-7166-4c81-8f11-a2df2bd2ea42",
   "metadata": {},
   "outputs": [
    {
     "data": {
      "text/html": [
       "<div>\n",
       "<style scoped>\n",
       "    .dataframe tbody tr th:only-of-type {\n",
       "        vertical-align: middle;\n",
       "    }\n",
       "\n",
       "    .dataframe tbody tr th {\n",
       "        vertical-align: top;\n",
       "    }\n",
       "\n",
       "    .dataframe thead th {\n",
       "        text-align: right;\n",
       "    }\n",
       "</style>\n",
       "<table border=\"1\" class=\"dataframe\">\n",
       "  <thead>\n",
       "    <tr style=\"text-align: right;\">\n",
       "      <th></th>\n",
       "      <th>url</th>\n",
       "      <th>venue_name</th>\n",
       "      <th>space_name</th>\n",
       "      <th>latitude</th>\n",
       "      <th>longitude</th>\n",
       "      <th>address_line</th>\n",
       "    </tr>\n",
       "  </thead>\n",
       "  <tbody>\n",
       "    <tr>\n",
       "      <th>count</th>\n",
       "      <td>4481</td>\n",
       "      <td>4481</td>\n",
       "      <td>4481</td>\n",
       "      <td>4481.000000</td>\n",
       "      <td>4481.000000</td>\n",
       "      <td>4481</td>\n",
       "    </tr>\n",
       "    <tr>\n",
       "      <th>unique</th>\n",
       "      <td>4481</td>\n",
       "      <td>1526</td>\n",
       "      <td>3142</td>\n",
       "      <td>NaN</td>\n",
       "      <td>NaN</td>\n",
       "      <td>1516</td>\n",
       "    </tr>\n",
       "    <tr>\n",
       "      <th>top</th>\n",
       "      <td>https://www.tagvenue.com/rooms/london/7552/gra...</td>\n",
       "      <td>radisson blu edwardian heathrow</td>\n",
       "      <td>whole venue</td>\n",
       "      <td>NaN</td>\n",
       "      <td>NaN</td>\n",
       "      <td>Bath Road, 140, London, UB3 5AW</td>\n",
       "    </tr>\n",
       "    <tr>\n",
       "      <th>freq</th>\n",
       "      <td>1</td>\n",
       "      <td>38</td>\n",
       "      <td>334</td>\n",
       "      <td>NaN</td>\n",
       "      <td>NaN</td>\n",
       "      <td>38</td>\n",
       "    </tr>\n",
       "    <tr>\n",
       "      <th>mean</th>\n",
       "      <td>NaN</td>\n",
       "      <td>NaN</td>\n",
       "      <td>NaN</td>\n",
       "      <td>51.509550</td>\n",
       "      <td>-0.125521</td>\n",
       "      <td>NaN</td>\n",
       "    </tr>\n",
       "    <tr>\n",
       "      <th>std</th>\n",
       "      <td>NaN</td>\n",
       "      <td>NaN</td>\n",
       "      <td>NaN</td>\n",
       "      <td>0.030236</td>\n",
       "      <td>0.076415</td>\n",
       "      <td>NaN</td>\n",
       "    </tr>\n",
       "    <tr>\n",
       "      <th>min</th>\n",
       "      <td>NaN</td>\n",
       "      <td>NaN</td>\n",
       "      <td>NaN</td>\n",
       "      <td>51.329423</td>\n",
       "      <td>-0.443729</td>\n",
       "      <td>NaN</td>\n",
       "    </tr>\n",
       "    <tr>\n",
       "      <th>25%</th>\n",
       "      <td>NaN</td>\n",
       "      <td>NaN</td>\n",
       "      <td>NaN</td>\n",
       "      <td>51.501546</td>\n",
       "      <td>-0.147253</td>\n",
       "      <td>NaN</td>\n",
       "    </tr>\n",
       "    <tr>\n",
       "      <th>50%</th>\n",
       "      <td>NaN</td>\n",
       "      <td>NaN</td>\n",
       "      <td>NaN</td>\n",
       "      <td>51.512952</td>\n",
       "      <td>-0.124687</td>\n",
       "      <td>NaN</td>\n",
       "    </tr>\n",
       "    <tr>\n",
       "      <th>75%</th>\n",
       "      <td>NaN</td>\n",
       "      <td>NaN</td>\n",
       "      <td>NaN</td>\n",
       "      <td>51.521381</td>\n",
       "      <td>-0.085673</td>\n",
       "      <td>NaN</td>\n",
       "    </tr>\n",
       "    <tr>\n",
       "      <th>max</th>\n",
       "      <td>NaN</td>\n",
       "      <td>NaN</td>\n",
       "      <td>NaN</td>\n",
       "      <td>51.689731</td>\n",
       "      <td>0.187566</td>\n",
       "      <td>NaN</td>\n",
       "    </tr>\n",
       "  </tbody>\n",
       "</table>\n",
       "</div>"
      ],
      "text/plain": [
       "                                                      url  \\\n",
       "count                                                4481   \n",
       "unique                                               4481   \n",
       "top     https://www.tagvenue.com/rooms/london/7552/gra...   \n",
       "freq                                                    1   \n",
       "mean                                                  NaN   \n",
       "std                                                   NaN   \n",
       "min                                                   NaN   \n",
       "25%                                                   NaN   \n",
       "50%                                                   NaN   \n",
       "75%                                                   NaN   \n",
       "max                                                   NaN   \n",
       "\n",
       "                             venue_name   space_name     latitude  \\\n",
       "count                              4481         4481  4481.000000   \n",
       "unique                             1526         3142          NaN   \n",
       "top     radisson blu edwardian heathrow  whole venue          NaN   \n",
       "freq                                 38          334          NaN   \n",
       "mean                                NaN          NaN    51.509550   \n",
       "std                                 NaN          NaN     0.030236   \n",
       "min                                 NaN          NaN    51.329423   \n",
       "25%                                 NaN          NaN    51.501546   \n",
       "50%                                 NaN          NaN    51.512952   \n",
       "75%                                 NaN          NaN    51.521381   \n",
       "max                                 NaN          NaN    51.689731   \n",
       "\n",
       "          longitude                     address_line  \n",
       "count   4481.000000                             4481  \n",
       "unique          NaN                             1516  \n",
       "top             NaN  Bath Road, 140, London, UB3 5AW  \n",
       "freq            NaN                               38  \n",
       "mean      -0.125521                              NaN  \n",
       "std        0.076415                              NaN  \n",
       "min       -0.443729                              NaN  \n",
       "25%       -0.147253                              NaN  \n",
       "50%       -0.124687                              NaN  \n",
       "75%       -0.085673                              NaN  \n",
       "max        0.187566                              NaN  "
      ]
     },
     "execution_count": 61,
     "metadata": {},
     "output_type": "execute_result"
    }
   ],
   "source": [
    "df.describe(include='all')"
   ]
  },
  {
   "cell_type": "code",
   "execution_count": 62,
   "id": "1f73970b-2ea7-40d2-9595-fc771b48fa71",
   "metadata": {},
   "outputs": [],
   "source": [
    "df.to_csv('tag_venue_data.csv', index=False)"
   ]
  },
  {
   "cell_type": "code",
   "execution_count": 63,
   "id": "5d8b172a-1365-408b-80aa-68f47fe3f2bb",
   "metadata": {},
   "outputs": [
    {
     "name": "stderr",
     "output_type": "stream",
     "text": [
      "WARNING:urllib3.connectionpool:Retrying (Retry(total=2, connect=None, read=None, redirect=None, status=None)) after connection broken by 'NewConnectionError('<urllib3.connection.HTTPConnection object at 0x116758b20>: Failed to establish a new connection: [Errno 61] Connection refused')': /session/84dcea4b79b3aa60c32f7461c5469173\n",
      "WARNING:urllib3.connectionpool:Retrying (Retry(total=1, connect=None, read=None, redirect=None, status=None)) after connection broken by 'NewConnectionError('<urllib3.connection.HTTPConnection object at 0x16bd0f580>: Failed to establish a new connection: [Errno 61] Connection refused')': /session/84dcea4b79b3aa60c32f7461c5469173\n",
      "WARNING:urllib3.connectionpool:Retrying (Retry(total=0, connect=None, read=None, redirect=None, status=None)) after connection broken by 'NewConnectionError('<urllib3.connection.HTTPConnection object at 0x16bd0b610>: Failed to establish a new connection: [Errno 61] Connection refused')': /session/84dcea4b79b3aa60c32f7461c5469173\n"
     ]
    }
   ],
   "source": [
    "# Close chrome page\n",
    "driver.quit()"
   ]
  },
  {
   "cell_type": "code",
   "execution_count": null,
   "id": "c8c49253-d65a-4032-8564-6e703da3faae",
   "metadata": {},
   "outputs": [],
   "source": [
    "import sys\n",
    "from operator import itemgetter\n",
    "local_vars = list(locals().items())\n",
    "# Size gives us variable size in Bytes\n",
    "size = [[var,sys.getsizeof(obj)] for var, obj in local_vars]\n",
    "size = sorted(size, key=itemgetter(1), reverse = True)\n",
    "for var, size in size:\n",
    "    print(var,f\"-> {size/1000000:,} MB\")"
   ]
  },
  {
   "cell_type": "markdown",
   "id": "70b5fb90-4c35-48c1-bf16-b9991dfbf6f6",
   "metadata": {},
   "source": [
    "### Investigating Extraction Errors\n",
    "Below provides examples of using the extraction_errors list to re-create the errors during extraction to aid with debugging."
   ]
  },
  {
   "cell_type": "code",
   "execution_count": 66,
   "id": "f9154001-fa72-40cc-9ad3-2cdb505b46aa",
   "metadata": {},
   "outputs": [
    {
     "data": {
      "text/plain": [
       "\"'grand ballroom at grand ballroom at the montcalm> error identifying space name and venue name'\""
      ]
     },
     "execution_count": 66,
     "metadata": {},
     "output_type": "execute_result"
    }
   ],
   "source": [
    "# Extracts error message from first error \n",
    "Error_number = 0\n",
    "repr(extraction_error_log[Error_number][1])"
   ]
  },
  {
   "cell_type": "code",
   "execution_count": 67,
   "id": "eef63808-a451-4aef-aef8-8a7354007407",
   "metadata": {},
   "outputs": [
    {
     "ename": "IndexError",
     "evalue": "list index out of range",
     "output_type": "error",
     "traceback": [
      "\u001b[0;31m---------------------------------------------------------------------------\u001b[0m",
      "\u001b[0;31mIndexError\u001b[0m                                Traceback (most recent call last)",
      "\u001b[0;32m/var/folders/3z/dqb7xjp13pg6n8dk8d2gscy40000gn/T/ipykernel_55547/1474118120.py\u001b[0m in \u001b[0;36m<module>\u001b[0;34m\u001b[0m\n\u001b[1;32m      1\u001b[0m \u001b[0;31m# Runs extraction on erroneous html, returning full original error\u001b[0m\u001b[0;34m\u001b[0m\u001b[0;34m\u001b[0m\u001b[0m\n\u001b[1;32m      2\u001b[0m \u001b[0mError_number\u001b[0m \u001b[0;34m=\u001b[0m \u001b[0;36m0\u001b[0m\u001b[0;34m\u001b[0m\u001b[0;34m\u001b[0m\u001b[0m\n\u001b[0;32m----> 3\u001b[0;31m \u001b[0mextract_from_html\u001b[0m\u001b[0;34m(\u001b[0m\u001b[0;34m'url'\u001b[0m\u001b[0;34m,\u001b[0m \u001b[0mextraction_error_log\u001b[0m\u001b[0;34m[\u001b[0m\u001b[0mError_number\u001b[0m\u001b[0;34m]\u001b[0m\u001b[0;34m[\u001b[0m\u001b[0;36m2\u001b[0m\u001b[0;34m]\u001b[0m\u001b[0;34m)\u001b[0m\u001b[0;34m\u001b[0m\u001b[0;34m\u001b[0m\u001b[0m\n\u001b[0m",
      "\u001b[0;32m/var/folders/3z/dqb7xjp13pg6n8dk8d2gscy40000gn/T/ipykernel_55547/1916022501.py\u001b[0m in \u001b[0;36mextract_from_html\u001b[0;34m(url, html)\u001b[0m\n\u001b[1;32m     31\u001b[0m         \u001b[0mspace_name\u001b[0m \u001b[0;34m=\u001b[0m \u001b[0murl_split\u001b[0m\u001b[0;34m[\u001b[0m\u001b[0;34m-\u001b[0m\u001b[0;36m1\u001b[0m\u001b[0;34m]\u001b[0m\u001b[0;34m.\u001b[0m\u001b[0mreplace\u001b[0m\u001b[0;34m(\u001b[0m\u001b[0;34m'-'\u001b[0m\u001b[0;34m,\u001b[0m\u001b[0;34m' '\u001b[0m\u001b[0;34m)\u001b[0m\u001b[0;34m\u001b[0m\u001b[0;34m\u001b[0m\u001b[0m\n\u001b[1;32m     32\u001b[0m         \u001b[0;31m# Second last element of url split is venue_name\u001b[0m\u001b[0;34m\u001b[0m\u001b[0;34m\u001b[0m\u001b[0m\n\u001b[0;32m---> 33\u001b[0;31m         \u001b[0mvenue_name\u001b[0m \u001b[0;34m=\u001b[0m \u001b[0murl_split\u001b[0m\u001b[0;34m[\u001b[0m\u001b[0;34m-\u001b[0m\u001b[0;36m2\u001b[0m\u001b[0;34m]\u001b[0m\u001b[0;34m.\u001b[0m\u001b[0mreplace\u001b[0m\u001b[0;34m(\u001b[0m\u001b[0;34m'-'\u001b[0m\u001b[0;34m,\u001b[0m\u001b[0;34m' '\u001b[0m\u001b[0;34m)\u001b[0m\u001b[0;34m\u001b[0m\u001b[0;34m\u001b[0m\u001b[0m\n\u001b[0m\u001b[1;32m     34\u001b[0m \u001b[0;34m\u001b[0m\u001b[0m\n\u001b[1;32m     35\u001b[0m     \u001b[0;31m# Find address html element\u001b[0m\u001b[0;34m\u001b[0m\u001b[0;34m\u001b[0m\u001b[0m\n",
      "\u001b[0;31mIndexError\u001b[0m: list index out of range"
     ]
    }
   ],
   "source": [
    "# Runs extraction on erroneous html, returning full original error\n",
    "Error_number = 0\n",
    "extract_from_html('url', extraction_error_log[Error_number][2])"
   ]
  },
  {
   "cell_type": "code",
   "execution_count": null,
   "id": "1c2701eb-c9ed-4b11-b217-77ba85642a89",
   "metadata": {},
   "outputs": [],
   "source": [
    "review_breakdown_title_elements = driver.find_elements_by_xpath(\n",
    "            \"//div[@class='reviews-modal-score__title' and contains(text(),'')]\")\n",
    "    review_breakdown_score_elements = driver.find_elements_by_xpath(\n",
    "            \"//div[@class='reviews-modal-score__score' and contains(text(),'')]\")\n",
    "    for element in review_breakdown_title_elements:\n",
    "        print(element.get_attribute('innerHTML'))\n",
    "        \n",
    "    for element in review_breakdown_score_elements:\n",
    "        print(element.get_attribute('innerHTML'))   "
   ]
  }
 ],
 "metadata": {
  "kernelspec": {
   "display_name": "Venue_scrape",
   "language": "python",
   "name": "venue_scrape"
  },
  "language_info": {
   "codemirror_mode": {
    "name": "ipython",
    "version": 3
   },
   "file_extension": ".py",
   "mimetype": "text/x-python",
   "name": "python",
   "nbconvert_exporter": "python",
   "pygments_lexer": "ipython3",
   "version": "3.9.7"
  },
  "toc-autonumbering": false,
  "toc-showcode": false,
  "toc-showmarkdowntxt": false,
  "toc-showtags": false
 },
 "nbformat": 4,
 "nbformat_minor": 5
}
